{
  "nbformat": 4,
  "nbformat_minor": 0,
  "metadata": {
    "colab": {
      "name": "Quiz 3.ipynb",
      "provenance": [],
      "collapsed_sections": []
    },
    "kernelspec": {
      "name": "python3",
      "display_name": "Python 3"
    },
    "language_info": {
      "name": "python"
    }
  },
  "cells": [
    {
      "cell_type": "code",
      "metadata": {
        "id": "qvRZJ0JJhF3M"
      },
      "source": [
        "%%capture\n",
        "!pip install datascience\n",
        "from datascience import *\n",
        "import pandas as pd\n",
        "import numpy as np\n",
        "import matplotlib.pyplot as plt\n"
      ],
      "execution_count": 1,
      "outputs": []
    },
    {
      "cell_type": "code",
      "metadata": {
        "id": "l6C0CwVPhS--",
        "colab": {
          "base_uri": "https://localhost:8080/"
        },
        "outputId": "a61a83cc-a9a4-497e-f3d7-4d728a47a49c"
      },
      "source": [
        "from google.colab import drive\n",
        "drive.mount('/content/drive')"
      ],
      "execution_count": 2,
      "outputs": [
        {
          "output_type": "stream",
          "name": "stdout",
          "text": [
            "Mounted at /content/drive\n"
          ]
        }
      ]
    },
    {
      "cell_type": "code",
      "metadata": {
        "id": "Sp0al1zJhU6p",
        "colab": {
          "base_uri": "https://localhost:8080/",
          "height": 419
        },
        "outputId": "9aa277ed-ecb2-4c90-e407-d02881f986ed"
      },
      "source": [
        "path = '/content/drive/MyDrive/DS/SalesJan2009.csv'\n",
        "path2 = '/content/drive/MyDrive/DS/salesCleanCSV.csv'\n",
        "df = pd.DataFrame(pd.read_csv(path, encoding='latin1'))\n",
        "dfc = pd.DataFrame(pd.read_csv(path2, encoding='latin1'))\n",
        "df"
      ],
      "execution_count": 3,
      "outputs": [
        {
          "output_type": "execute_result",
          "data": {
            "text/html": [
              "<div>\n",
              "<style scoped>\n",
              "    .dataframe tbody tr th:only-of-type {\n",
              "        vertical-align: middle;\n",
              "    }\n",
              "\n",
              "    .dataframe tbody tr th {\n",
              "        vertical-align: top;\n",
              "    }\n",
              "\n",
              "    .dataframe thead th {\n",
              "        text-align: right;\n",
              "    }\n",
              "</style>\n",
              "<table border=\"1\" class=\"dataframe\">\n",
              "  <thead>\n",
              "    <tr style=\"text-align: right;\">\n",
              "      <th></th>\n",
              "      <th>Transaction_date</th>\n",
              "      <th>Product</th>\n",
              "      <th>Price</th>\n",
              "      <th>Payment_Type</th>\n",
              "      <th>Name</th>\n",
              "      <th>City</th>\n",
              "      <th>State</th>\n",
              "      <th>Country</th>\n",
              "      <th>Account_Created</th>\n",
              "      <th>Last_Login</th>\n",
              "      <th>Latitude</th>\n",
              "      <th>Longitude</th>\n",
              "    </tr>\n",
              "  </thead>\n",
              "  <tbody>\n",
              "    <tr>\n",
              "      <th>0</th>\n",
              "      <td>2001-02-09 6:17</td>\n",
              "      <td>Product1</td>\n",
              "      <td>1200</td>\n",
              "      <td>Mastercard</td>\n",
              "      <td>carolina</td>\n",
              "      <td>Basildon</td>\n",
              "      <td>England</td>\n",
              "      <td>United Kingdom</td>\n",
              "      <td>2001-02-09 6:00</td>\n",
              "      <td>2001-02-09 6:08</td>\n",
              "      <td>51.500000</td>\n",
              "      <td>-1.116667</td>\n",
              "    </tr>\n",
              "    <tr>\n",
              "      <th>1</th>\n",
              "      <td>2001-02-09 4:53</td>\n",
              "      <td>Product1</td>\n",
              "      <td>1200</td>\n",
              "      <td>Visa</td>\n",
              "      <td>Betina</td>\n",
              "      <td>Parkville</td>\n",
              "      <td>MO</td>\n",
              "      <td>United States</td>\n",
              "      <td>2001-02-09 4:42</td>\n",
              "      <td>2001-02-09 7:49</td>\n",
              "      <td>39.195000</td>\n",
              "      <td>-94.681940</td>\n",
              "    </tr>\n",
              "    <tr>\n",
              "      <th>2</th>\n",
              "      <td>2001-02-09 13:08</td>\n",
              "      <td>Product1</td>\n",
              "      <td>1200</td>\n",
              "      <td>Mastercard</td>\n",
              "      <td>Federica e Andrea</td>\n",
              "      <td>Astoria</td>\n",
              "      <td>OR</td>\n",
              "      <td>United States</td>\n",
              "      <td>2001-01-09 16:21</td>\n",
              "      <td>2001-03-09 12:32</td>\n",
              "      <td>46.188060</td>\n",
              "      <td>-123.830000</td>\n",
              "    </tr>\n",
              "    <tr>\n",
              "      <th>3</th>\n",
              "      <td>2001-03-09 14:44</td>\n",
              "      <td>Product1</td>\n",
              "      <td>1200</td>\n",
              "      <td>Visa</td>\n",
              "      <td>Gouya</td>\n",
              "      <td>Echuca</td>\n",
              "      <td>Victoria</td>\n",
              "      <td>Australia</td>\n",
              "      <td>9/25/05 21:13</td>\n",
              "      <td>2001-03-09 14:22</td>\n",
              "      <td>-36.133333</td>\n",
              "      <td>144.750000</td>\n",
              "    </tr>\n",
              "    <tr>\n",
              "      <th>4</th>\n",
              "      <td>2001-04-09 12:56</td>\n",
              "      <td>Product2</td>\n",
              "      <td>3600</td>\n",
              "      <td>Visa</td>\n",
              "      <td>Gerd W</td>\n",
              "      <td>Cahaba Heights</td>\n",
              "      <td>AL</td>\n",
              "      <td>United States</td>\n",
              "      <td>11/15/08 15:47</td>\n",
              "      <td>2001-04-09 12:45</td>\n",
              "      <td>33.520560</td>\n",
              "      <td>-86.802500</td>\n",
              "    </tr>\n",
              "    <tr>\n",
              "      <th>...</th>\n",
              "      <td>...</td>\n",
              "      <td>...</td>\n",
              "      <td>...</td>\n",
              "      <td>...</td>\n",
              "      <td>...</td>\n",
              "      <td>...</td>\n",
              "      <td>...</td>\n",
              "      <td>...</td>\n",
              "      <td>...</td>\n",
              "      <td>...</td>\n",
              "      <td>...</td>\n",
              "      <td>...</td>\n",
              "    </tr>\n",
              "    <tr>\n",
              "      <th>993</th>\n",
              "      <td>1/22/09 14:25</td>\n",
              "      <td>Product1</td>\n",
              "      <td>1200</td>\n",
              "      <td>Visa</td>\n",
              "      <td>Hans-Joerg</td>\n",
              "      <td>Belfast</td>\n",
              "      <td>Northern Ireland</td>\n",
              "      <td>United Kingdom</td>\n",
              "      <td>2011-10-08 12:15</td>\n",
              "      <td>2003-01-09 3:37</td>\n",
              "      <td>54.583333</td>\n",
              "      <td>-5.933333</td>\n",
              "    </tr>\n",
              "    <tr>\n",
              "      <th>994</th>\n",
              "      <td>1/28/09 5:36</td>\n",
              "      <td>Product2</td>\n",
              "      <td>3600</td>\n",
              "      <td>Visa</td>\n",
              "      <td>Christiane</td>\n",
              "      <td>Black River</td>\n",
              "      <td>Black River</td>\n",
              "      <td>Mauritius</td>\n",
              "      <td>2001-09-09 8:10</td>\n",
              "      <td>2003-01-09 4:40</td>\n",
              "      <td>-20.360278</td>\n",
              "      <td>57.366111</td>\n",
              "    </tr>\n",
              "    <tr>\n",
              "      <th>995</th>\n",
              "      <td>2001-01-09 4:24</td>\n",
              "      <td>Product3</td>\n",
              "      <td>7500</td>\n",
              "      <td>Amex</td>\n",
              "      <td>Pamela</td>\n",
              "      <td>Skaneateles</td>\n",
              "      <td>NY</td>\n",
              "      <td>United States</td>\n",
              "      <td>12/28/08 17:28</td>\n",
              "      <td>2003-01-09 7:21</td>\n",
              "      <td>42.946940</td>\n",
              "      <td>-76.429440</td>\n",
              "    </tr>\n",
              "    <tr>\n",
              "      <th>996</th>\n",
              "      <td>2001-08-09 11:55</td>\n",
              "      <td>Product1</td>\n",
              "      <td>1200</td>\n",
              "      <td>Diners</td>\n",
              "      <td>julie</td>\n",
              "      <td>Haverhill</td>\n",
              "      <td>England</td>\n",
              "      <td>United Kingdom</td>\n",
              "      <td>11/29/06 13:31</td>\n",
              "      <td>2003-01-09 7:28</td>\n",
              "      <td>52.083333</td>\n",
              "      <td>0.433333</td>\n",
              "    </tr>\n",
              "    <tr>\n",
              "      <th>997</th>\n",
              "      <td>2001-12-09 21:30</td>\n",
              "      <td>Product1</td>\n",
              "      <td>1200</td>\n",
              "      <td>Visa</td>\n",
              "      <td>Julia</td>\n",
              "      <td>Madison</td>\n",
              "      <td>WI</td>\n",
              "      <td>United States</td>\n",
              "      <td>11/17/08 22:24</td>\n",
              "      <td>2003-01-09 10:14</td>\n",
              "      <td>43.073060</td>\n",
              "      <td>-89.401110</td>\n",
              "    </tr>\n",
              "  </tbody>\n",
              "</table>\n",
              "<p>998 rows × 12 columns</p>\n",
              "</div>"
            ],
            "text/plain": [
              "     Transaction_date   Product Price  ...        Last_Login   Latitude   Longitude\n",
              "0     2001-02-09 6:17  Product1  1200  ...   2001-02-09 6:08  51.500000   -1.116667\n",
              "1     2001-02-09 4:53  Product1  1200  ...   2001-02-09 7:49  39.195000  -94.681940\n",
              "2    2001-02-09 13:08  Product1  1200  ...  2001-03-09 12:32  46.188060 -123.830000\n",
              "3    2001-03-09 14:44  Product1  1200  ...  2001-03-09 14:22 -36.133333  144.750000\n",
              "4    2001-04-09 12:56  Product2  3600  ...  2001-04-09 12:45  33.520560  -86.802500\n",
              "..                ...       ...   ...  ...               ...        ...         ...\n",
              "993     1/22/09 14:25  Product1  1200  ...   2003-01-09 3:37  54.583333   -5.933333\n",
              "994      1/28/09 5:36  Product2  3600  ...   2003-01-09 4:40 -20.360278   57.366111\n",
              "995   2001-01-09 4:24  Product3  7500  ...   2003-01-09 7:21  42.946940  -76.429440\n",
              "996  2001-08-09 11:55  Product1  1200  ...   2003-01-09 7:28  52.083333    0.433333\n",
              "997  2001-12-09 21:30  Product1  1200  ...  2003-01-09 10:14  43.073060  -89.401110\n",
              "\n",
              "[998 rows x 12 columns]"
            ]
          },
          "metadata": {},
          "execution_count": 3
        }
      ]
    },
    {
      "cell_type": "code",
      "metadata": {
        "id": "EUcL4PWTh5tY"
      },
      "source": [
        "df['Transaction_date'] = pd.to_datetime(df.Transaction_date).dt.month\n"
      ],
      "execution_count": 4,
      "outputs": []
    },
    {
      "cell_type": "code",
      "metadata": {
        "id": "4dqofKjeikxT",
        "colab": {
          "base_uri": "https://localhost:8080/",
          "height": 419
        },
        "outputId": "409f0bcd-070f-4e51-bb06-d641622b43e4"
      },
      "source": [
        "df.rename(columns={'Transaction_date':'Transaction_month'}, inplace=True)\n",
        "df"
      ],
      "execution_count": 5,
      "outputs": [
        {
          "output_type": "execute_result",
          "data": {
            "text/html": [
              "<div>\n",
              "<style scoped>\n",
              "    .dataframe tbody tr th:only-of-type {\n",
              "        vertical-align: middle;\n",
              "    }\n",
              "\n",
              "    .dataframe tbody tr th {\n",
              "        vertical-align: top;\n",
              "    }\n",
              "\n",
              "    .dataframe thead th {\n",
              "        text-align: right;\n",
              "    }\n",
              "</style>\n",
              "<table border=\"1\" class=\"dataframe\">\n",
              "  <thead>\n",
              "    <tr style=\"text-align: right;\">\n",
              "      <th></th>\n",
              "      <th>Transaction_month</th>\n",
              "      <th>Product</th>\n",
              "      <th>Price</th>\n",
              "      <th>Payment_Type</th>\n",
              "      <th>Name</th>\n",
              "      <th>City</th>\n",
              "      <th>State</th>\n",
              "      <th>Country</th>\n",
              "      <th>Account_Created</th>\n",
              "      <th>Last_Login</th>\n",
              "      <th>Latitude</th>\n",
              "      <th>Longitude</th>\n",
              "    </tr>\n",
              "  </thead>\n",
              "  <tbody>\n",
              "    <tr>\n",
              "      <th>0</th>\n",
              "      <td>2</td>\n",
              "      <td>Product1</td>\n",
              "      <td>1200</td>\n",
              "      <td>Mastercard</td>\n",
              "      <td>carolina</td>\n",
              "      <td>Basildon</td>\n",
              "      <td>England</td>\n",
              "      <td>United Kingdom</td>\n",
              "      <td>2001-02-09 6:00</td>\n",
              "      <td>2001-02-09 6:08</td>\n",
              "      <td>51.500000</td>\n",
              "      <td>-1.116667</td>\n",
              "    </tr>\n",
              "    <tr>\n",
              "      <th>1</th>\n",
              "      <td>2</td>\n",
              "      <td>Product1</td>\n",
              "      <td>1200</td>\n",
              "      <td>Visa</td>\n",
              "      <td>Betina</td>\n",
              "      <td>Parkville</td>\n",
              "      <td>MO</td>\n",
              "      <td>United States</td>\n",
              "      <td>2001-02-09 4:42</td>\n",
              "      <td>2001-02-09 7:49</td>\n",
              "      <td>39.195000</td>\n",
              "      <td>-94.681940</td>\n",
              "    </tr>\n",
              "    <tr>\n",
              "      <th>2</th>\n",
              "      <td>2</td>\n",
              "      <td>Product1</td>\n",
              "      <td>1200</td>\n",
              "      <td>Mastercard</td>\n",
              "      <td>Federica e Andrea</td>\n",
              "      <td>Astoria</td>\n",
              "      <td>OR</td>\n",
              "      <td>United States</td>\n",
              "      <td>2001-01-09 16:21</td>\n",
              "      <td>2001-03-09 12:32</td>\n",
              "      <td>46.188060</td>\n",
              "      <td>-123.830000</td>\n",
              "    </tr>\n",
              "    <tr>\n",
              "      <th>3</th>\n",
              "      <td>3</td>\n",
              "      <td>Product1</td>\n",
              "      <td>1200</td>\n",
              "      <td>Visa</td>\n",
              "      <td>Gouya</td>\n",
              "      <td>Echuca</td>\n",
              "      <td>Victoria</td>\n",
              "      <td>Australia</td>\n",
              "      <td>9/25/05 21:13</td>\n",
              "      <td>2001-03-09 14:22</td>\n",
              "      <td>-36.133333</td>\n",
              "      <td>144.750000</td>\n",
              "    </tr>\n",
              "    <tr>\n",
              "      <th>4</th>\n",
              "      <td>4</td>\n",
              "      <td>Product2</td>\n",
              "      <td>3600</td>\n",
              "      <td>Visa</td>\n",
              "      <td>Gerd W</td>\n",
              "      <td>Cahaba Heights</td>\n",
              "      <td>AL</td>\n",
              "      <td>United States</td>\n",
              "      <td>11/15/08 15:47</td>\n",
              "      <td>2001-04-09 12:45</td>\n",
              "      <td>33.520560</td>\n",
              "      <td>-86.802500</td>\n",
              "    </tr>\n",
              "    <tr>\n",
              "      <th>...</th>\n",
              "      <td>...</td>\n",
              "      <td>...</td>\n",
              "      <td>...</td>\n",
              "      <td>...</td>\n",
              "      <td>...</td>\n",
              "      <td>...</td>\n",
              "      <td>...</td>\n",
              "      <td>...</td>\n",
              "      <td>...</td>\n",
              "      <td>...</td>\n",
              "      <td>...</td>\n",
              "      <td>...</td>\n",
              "    </tr>\n",
              "    <tr>\n",
              "      <th>993</th>\n",
              "      <td>1</td>\n",
              "      <td>Product1</td>\n",
              "      <td>1200</td>\n",
              "      <td>Visa</td>\n",
              "      <td>Hans-Joerg</td>\n",
              "      <td>Belfast</td>\n",
              "      <td>Northern Ireland</td>\n",
              "      <td>United Kingdom</td>\n",
              "      <td>2011-10-08 12:15</td>\n",
              "      <td>2003-01-09 3:37</td>\n",
              "      <td>54.583333</td>\n",
              "      <td>-5.933333</td>\n",
              "    </tr>\n",
              "    <tr>\n",
              "      <th>994</th>\n",
              "      <td>1</td>\n",
              "      <td>Product2</td>\n",
              "      <td>3600</td>\n",
              "      <td>Visa</td>\n",
              "      <td>Christiane</td>\n",
              "      <td>Black River</td>\n",
              "      <td>Black River</td>\n",
              "      <td>Mauritius</td>\n",
              "      <td>2001-09-09 8:10</td>\n",
              "      <td>2003-01-09 4:40</td>\n",
              "      <td>-20.360278</td>\n",
              "      <td>57.366111</td>\n",
              "    </tr>\n",
              "    <tr>\n",
              "      <th>995</th>\n",
              "      <td>1</td>\n",
              "      <td>Product3</td>\n",
              "      <td>7500</td>\n",
              "      <td>Amex</td>\n",
              "      <td>Pamela</td>\n",
              "      <td>Skaneateles</td>\n",
              "      <td>NY</td>\n",
              "      <td>United States</td>\n",
              "      <td>12/28/08 17:28</td>\n",
              "      <td>2003-01-09 7:21</td>\n",
              "      <td>42.946940</td>\n",
              "      <td>-76.429440</td>\n",
              "    </tr>\n",
              "    <tr>\n",
              "      <th>996</th>\n",
              "      <td>8</td>\n",
              "      <td>Product1</td>\n",
              "      <td>1200</td>\n",
              "      <td>Diners</td>\n",
              "      <td>julie</td>\n",
              "      <td>Haverhill</td>\n",
              "      <td>England</td>\n",
              "      <td>United Kingdom</td>\n",
              "      <td>11/29/06 13:31</td>\n",
              "      <td>2003-01-09 7:28</td>\n",
              "      <td>52.083333</td>\n",
              "      <td>0.433333</td>\n",
              "    </tr>\n",
              "    <tr>\n",
              "      <th>997</th>\n",
              "      <td>12</td>\n",
              "      <td>Product1</td>\n",
              "      <td>1200</td>\n",
              "      <td>Visa</td>\n",
              "      <td>Julia</td>\n",
              "      <td>Madison</td>\n",
              "      <td>WI</td>\n",
              "      <td>United States</td>\n",
              "      <td>11/17/08 22:24</td>\n",
              "      <td>2003-01-09 10:14</td>\n",
              "      <td>43.073060</td>\n",
              "      <td>-89.401110</td>\n",
              "    </tr>\n",
              "  </tbody>\n",
              "</table>\n",
              "<p>998 rows × 12 columns</p>\n",
              "</div>"
            ],
            "text/plain": [
              "     Transaction_month   Product Price  ...        Last_Login   Latitude   Longitude\n",
              "0                    2  Product1  1200  ...   2001-02-09 6:08  51.500000   -1.116667\n",
              "1                    2  Product1  1200  ...   2001-02-09 7:49  39.195000  -94.681940\n",
              "2                    2  Product1  1200  ...  2001-03-09 12:32  46.188060 -123.830000\n",
              "3                    3  Product1  1200  ...  2001-03-09 14:22 -36.133333  144.750000\n",
              "4                    4  Product2  3600  ...  2001-04-09 12:45  33.520560  -86.802500\n",
              "..                 ...       ...   ...  ...               ...        ...         ...\n",
              "993                  1  Product1  1200  ...   2003-01-09 3:37  54.583333   -5.933333\n",
              "994                  1  Product2  3600  ...   2003-01-09 4:40 -20.360278   57.366111\n",
              "995                  1  Product3  7500  ...   2003-01-09 7:21  42.946940  -76.429440\n",
              "996                  8  Product1  1200  ...   2003-01-09 7:28  52.083333    0.433333\n",
              "997                 12  Product1  1200  ...  2003-01-09 10:14  43.073060  -89.401110\n",
              "\n",
              "[998 rows x 12 columns]"
            ]
          },
          "metadata": {},
          "execution_count": 5
        }
      ]
    },
    {
      "cell_type": "code",
      "metadata": {
        "id": "E9a2kxVawU05",
        "colab": {
          "base_uri": "https://localhost:8080/"
        },
        "outputId": "8c077481-66d7-47ad-8898-9cf8621f2039"
      },
      "source": [
        "df['Account_Created'] = pd.to_datetime(df.Account_Created)\n",
        "df2 = df[\"Account_Created\"].dt.strftime(\"%-m/%-d/%y %-H:%M\")\n",
        "df2\n"
      ],
      "execution_count": 6,
      "outputs": [
        {
          "output_type": "execute_result",
          "data": {
            "text/plain": [
              "0         2/9/01 6:00\n",
              "1         2/9/01 4:42\n",
              "2        1/9/01 16:21\n",
              "3       9/25/05 21:13\n",
              "4      11/15/08 15:47\n",
              "            ...      \n",
              "993     10/8/11 12:15\n",
              "994       9/9/01 8:10\n",
              "995    12/28/08 17:28\n",
              "996    11/29/06 13:31\n",
              "997    11/17/08 22:24\n",
              "Name: Account_Created, Length: 998, dtype: object"
            ]
          },
          "metadata": {},
          "execution_count": 6
        }
      ]
    },
    {
      "cell_type": "code",
      "metadata": {
        "id": "TX2_phGKyEkc",
        "colab": {
          "base_uri": "https://localhost:8080/",
          "height": 419
        },
        "outputId": "6ce0ae9b-cfef-4fa3-de8f-7144c0da5340"
      },
      "source": [
        "df[\"Account_Created\"] = df2\n",
        "df"
      ],
      "execution_count": 7,
      "outputs": [
        {
          "output_type": "execute_result",
          "data": {
            "text/html": [
              "<div>\n",
              "<style scoped>\n",
              "    .dataframe tbody tr th:only-of-type {\n",
              "        vertical-align: middle;\n",
              "    }\n",
              "\n",
              "    .dataframe tbody tr th {\n",
              "        vertical-align: top;\n",
              "    }\n",
              "\n",
              "    .dataframe thead th {\n",
              "        text-align: right;\n",
              "    }\n",
              "</style>\n",
              "<table border=\"1\" class=\"dataframe\">\n",
              "  <thead>\n",
              "    <tr style=\"text-align: right;\">\n",
              "      <th></th>\n",
              "      <th>Transaction_month</th>\n",
              "      <th>Product</th>\n",
              "      <th>Price</th>\n",
              "      <th>Payment_Type</th>\n",
              "      <th>Name</th>\n",
              "      <th>City</th>\n",
              "      <th>State</th>\n",
              "      <th>Country</th>\n",
              "      <th>Account_Created</th>\n",
              "      <th>Last_Login</th>\n",
              "      <th>Latitude</th>\n",
              "      <th>Longitude</th>\n",
              "    </tr>\n",
              "  </thead>\n",
              "  <tbody>\n",
              "    <tr>\n",
              "      <th>0</th>\n",
              "      <td>2</td>\n",
              "      <td>Product1</td>\n",
              "      <td>1200</td>\n",
              "      <td>Mastercard</td>\n",
              "      <td>carolina</td>\n",
              "      <td>Basildon</td>\n",
              "      <td>England</td>\n",
              "      <td>United Kingdom</td>\n",
              "      <td>2/9/01 6:00</td>\n",
              "      <td>2001-02-09 6:08</td>\n",
              "      <td>51.500000</td>\n",
              "      <td>-1.116667</td>\n",
              "    </tr>\n",
              "    <tr>\n",
              "      <th>1</th>\n",
              "      <td>2</td>\n",
              "      <td>Product1</td>\n",
              "      <td>1200</td>\n",
              "      <td>Visa</td>\n",
              "      <td>Betina</td>\n",
              "      <td>Parkville</td>\n",
              "      <td>MO</td>\n",
              "      <td>United States</td>\n",
              "      <td>2/9/01 4:42</td>\n",
              "      <td>2001-02-09 7:49</td>\n",
              "      <td>39.195000</td>\n",
              "      <td>-94.681940</td>\n",
              "    </tr>\n",
              "    <tr>\n",
              "      <th>2</th>\n",
              "      <td>2</td>\n",
              "      <td>Product1</td>\n",
              "      <td>1200</td>\n",
              "      <td>Mastercard</td>\n",
              "      <td>Federica e Andrea</td>\n",
              "      <td>Astoria</td>\n",
              "      <td>OR</td>\n",
              "      <td>United States</td>\n",
              "      <td>1/9/01 16:21</td>\n",
              "      <td>2001-03-09 12:32</td>\n",
              "      <td>46.188060</td>\n",
              "      <td>-123.830000</td>\n",
              "    </tr>\n",
              "    <tr>\n",
              "      <th>3</th>\n",
              "      <td>3</td>\n",
              "      <td>Product1</td>\n",
              "      <td>1200</td>\n",
              "      <td>Visa</td>\n",
              "      <td>Gouya</td>\n",
              "      <td>Echuca</td>\n",
              "      <td>Victoria</td>\n",
              "      <td>Australia</td>\n",
              "      <td>9/25/05 21:13</td>\n",
              "      <td>2001-03-09 14:22</td>\n",
              "      <td>-36.133333</td>\n",
              "      <td>144.750000</td>\n",
              "    </tr>\n",
              "    <tr>\n",
              "      <th>4</th>\n",
              "      <td>4</td>\n",
              "      <td>Product2</td>\n",
              "      <td>3600</td>\n",
              "      <td>Visa</td>\n",
              "      <td>Gerd W</td>\n",
              "      <td>Cahaba Heights</td>\n",
              "      <td>AL</td>\n",
              "      <td>United States</td>\n",
              "      <td>11/15/08 15:47</td>\n",
              "      <td>2001-04-09 12:45</td>\n",
              "      <td>33.520560</td>\n",
              "      <td>-86.802500</td>\n",
              "    </tr>\n",
              "    <tr>\n",
              "      <th>...</th>\n",
              "      <td>...</td>\n",
              "      <td>...</td>\n",
              "      <td>...</td>\n",
              "      <td>...</td>\n",
              "      <td>...</td>\n",
              "      <td>...</td>\n",
              "      <td>...</td>\n",
              "      <td>...</td>\n",
              "      <td>...</td>\n",
              "      <td>...</td>\n",
              "      <td>...</td>\n",
              "      <td>...</td>\n",
              "    </tr>\n",
              "    <tr>\n",
              "      <th>993</th>\n",
              "      <td>1</td>\n",
              "      <td>Product1</td>\n",
              "      <td>1200</td>\n",
              "      <td>Visa</td>\n",
              "      <td>Hans-Joerg</td>\n",
              "      <td>Belfast</td>\n",
              "      <td>Northern Ireland</td>\n",
              "      <td>United Kingdom</td>\n",
              "      <td>10/8/11 12:15</td>\n",
              "      <td>2003-01-09 3:37</td>\n",
              "      <td>54.583333</td>\n",
              "      <td>-5.933333</td>\n",
              "    </tr>\n",
              "    <tr>\n",
              "      <th>994</th>\n",
              "      <td>1</td>\n",
              "      <td>Product2</td>\n",
              "      <td>3600</td>\n",
              "      <td>Visa</td>\n",
              "      <td>Christiane</td>\n",
              "      <td>Black River</td>\n",
              "      <td>Black River</td>\n",
              "      <td>Mauritius</td>\n",
              "      <td>9/9/01 8:10</td>\n",
              "      <td>2003-01-09 4:40</td>\n",
              "      <td>-20.360278</td>\n",
              "      <td>57.366111</td>\n",
              "    </tr>\n",
              "    <tr>\n",
              "      <th>995</th>\n",
              "      <td>1</td>\n",
              "      <td>Product3</td>\n",
              "      <td>7500</td>\n",
              "      <td>Amex</td>\n",
              "      <td>Pamela</td>\n",
              "      <td>Skaneateles</td>\n",
              "      <td>NY</td>\n",
              "      <td>United States</td>\n",
              "      <td>12/28/08 17:28</td>\n",
              "      <td>2003-01-09 7:21</td>\n",
              "      <td>42.946940</td>\n",
              "      <td>-76.429440</td>\n",
              "    </tr>\n",
              "    <tr>\n",
              "      <th>996</th>\n",
              "      <td>8</td>\n",
              "      <td>Product1</td>\n",
              "      <td>1200</td>\n",
              "      <td>Diners</td>\n",
              "      <td>julie</td>\n",
              "      <td>Haverhill</td>\n",
              "      <td>England</td>\n",
              "      <td>United Kingdom</td>\n",
              "      <td>11/29/06 13:31</td>\n",
              "      <td>2003-01-09 7:28</td>\n",
              "      <td>52.083333</td>\n",
              "      <td>0.433333</td>\n",
              "    </tr>\n",
              "    <tr>\n",
              "      <th>997</th>\n",
              "      <td>12</td>\n",
              "      <td>Product1</td>\n",
              "      <td>1200</td>\n",
              "      <td>Visa</td>\n",
              "      <td>Julia</td>\n",
              "      <td>Madison</td>\n",
              "      <td>WI</td>\n",
              "      <td>United States</td>\n",
              "      <td>11/17/08 22:24</td>\n",
              "      <td>2003-01-09 10:14</td>\n",
              "      <td>43.073060</td>\n",
              "      <td>-89.401110</td>\n",
              "    </tr>\n",
              "  </tbody>\n",
              "</table>\n",
              "<p>998 rows × 12 columns</p>\n",
              "</div>"
            ],
            "text/plain": [
              "     Transaction_month   Product Price  ...        Last_Login   Latitude   Longitude\n",
              "0                    2  Product1  1200  ...   2001-02-09 6:08  51.500000   -1.116667\n",
              "1                    2  Product1  1200  ...   2001-02-09 7:49  39.195000  -94.681940\n",
              "2                    2  Product1  1200  ...  2001-03-09 12:32  46.188060 -123.830000\n",
              "3                    3  Product1  1200  ...  2001-03-09 14:22 -36.133333  144.750000\n",
              "4                    4  Product2  3600  ...  2001-04-09 12:45  33.520560  -86.802500\n",
              "..                 ...       ...   ...  ...               ...        ...         ...\n",
              "993                  1  Product1  1200  ...   2003-01-09 3:37  54.583333   -5.933333\n",
              "994                  1  Product2  3600  ...   2003-01-09 4:40 -20.360278   57.366111\n",
              "995                  1  Product3  7500  ...   2003-01-09 7:21  42.946940  -76.429440\n",
              "996                  8  Product1  1200  ...   2003-01-09 7:28  52.083333    0.433333\n",
              "997                 12  Product1  1200  ...  2003-01-09 10:14  43.073060  -89.401110\n",
              "\n",
              "[998 rows x 12 columns]"
            ]
          },
          "metadata": {},
          "execution_count": 7
        }
      ]
    },
    {
      "cell_type": "code",
      "metadata": {
        "id": "oiAAlxE_yPeX",
        "colab": {
          "base_uri": "https://localhost:8080/"
        },
        "outputId": "8f422107-29d5-4443-a183-acbe4406a9ad"
      },
      "source": [
        "df['Last_Login'] = pd.to_datetime(df.Last_Login)\n",
        "df3 = df[\"Last_Login\"].dt.strftime(\"%-m/%-d/%y %-H:%M\")\n",
        "df3"
      ],
      "execution_count": 8,
      "outputs": [
        {
          "output_type": "execute_result",
          "data": {
            "text/plain": [
              "0       2/9/01 6:08\n",
              "1       2/9/01 7:49\n",
              "2      3/9/01 12:32\n",
              "3      3/9/01 14:22\n",
              "4      4/9/01 12:45\n",
              "           ...     \n",
              "993     1/9/03 3:37\n",
              "994     1/9/03 4:40\n",
              "995     1/9/03 7:21\n",
              "996     1/9/03 7:28\n",
              "997    1/9/03 10:14\n",
              "Name: Last_Login, Length: 998, dtype: object"
            ]
          },
          "metadata": {},
          "execution_count": 8
        }
      ]
    },
    {
      "cell_type": "code",
      "metadata": {
        "id": "yg6WJ3khyk62",
        "colab": {
          "base_uri": "https://localhost:8080/",
          "height": 419
        },
        "outputId": "f0d6c5ad-6cf5-4b2c-9644-fea019c0907b"
      },
      "source": [
        "df['Last_Login'] = df3\n",
        "df"
      ],
      "execution_count": 9,
      "outputs": [
        {
          "output_type": "execute_result",
          "data": {
            "text/html": [
              "<div>\n",
              "<style scoped>\n",
              "    .dataframe tbody tr th:only-of-type {\n",
              "        vertical-align: middle;\n",
              "    }\n",
              "\n",
              "    .dataframe tbody tr th {\n",
              "        vertical-align: top;\n",
              "    }\n",
              "\n",
              "    .dataframe thead th {\n",
              "        text-align: right;\n",
              "    }\n",
              "</style>\n",
              "<table border=\"1\" class=\"dataframe\">\n",
              "  <thead>\n",
              "    <tr style=\"text-align: right;\">\n",
              "      <th></th>\n",
              "      <th>Transaction_month</th>\n",
              "      <th>Product</th>\n",
              "      <th>Price</th>\n",
              "      <th>Payment_Type</th>\n",
              "      <th>Name</th>\n",
              "      <th>City</th>\n",
              "      <th>State</th>\n",
              "      <th>Country</th>\n",
              "      <th>Account_Created</th>\n",
              "      <th>Last_Login</th>\n",
              "      <th>Latitude</th>\n",
              "      <th>Longitude</th>\n",
              "    </tr>\n",
              "  </thead>\n",
              "  <tbody>\n",
              "    <tr>\n",
              "      <th>0</th>\n",
              "      <td>2</td>\n",
              "      <td>Product1</td>\n",
              "      <td>1200</td>\n",
              "      <td>Mastercard</td>\n",
              "      <td>carolina</td>\n",
              "      <td>Basildon</td>\n",
              "      <td>England</td>\n",
              "      <td>United Kingdom</td>\n",
              "      <td>2/9/01 6:00</td>\n",
              "      <td>2/9/01 6:08</td>\n",
              "      <td>51.500000</td>\n",
              "      <td>-1.116667</td>\n",
              "    </tr>\n",
              "    <tr>\n",
              "      <th>1</th>\n",
              "      <td>2</td>\n",
              "      <td>Product1</td>\n",
              "      <td>1200</td>\n",
              "      <td>Visa</td>\n",
              "      <td>Betina</td>\n",
              "      <td>Parkville</td>\n",
              "      <td>MO</td>\n",
              "      <td>United States</td>\n",
              "      <td>2/9/01 4:42</td>\n",
              "      <td>2/9/01 7:49</td>\n",
              "      <td>39.195000</td>\n",
              "      <td>-94.681940</td>\n",
              "    </tr>\n",
              "    <tr>\n",
              "      <th>2</th>\n",
              "      <td>2</td>\n",
              "      <td>Product1</td>\n",
              "      <td>1200</td>\n",
              "      <td>Mastercard</td>\n",
              "      <td>Federica e Andrea</td>\n",
              "      <td>Astoria</td>\n",
              "      <td>OR</td>\n",
              "      <td>United States</td>\n",
              "      <td>1/9/01 16:21</td>\n",
              "      <td>3/9/01 12:32</td>\n",
              "      <td>46.188060</td>\n",
              "      <td>-123.830000</td>\n",
              "    </tr>\n",
              "    <tr>\n",
              "      <th>3</th>\n",
              "      <td>3</td>\n",
              "      <td>Product1</td>\n",
              "      <td>1200</td>\n",
              "      <td>Visa</td>\n",
              "      <td>Gouya</td>\n",
              "      <td>Echuca</td>\n",
              "      <td>Victoria</td>\n",
              "      <td>Australia</td>\n",
              "      <td>9/25/05 21:13</td>\n",
              "      <td>3/9/01 14:22</td>\n",
              "      <td>-36.133333</td>\n",
              "      <td>144.750000</td>\n",
              "    </tr>\n",
              "    <tr>\n",
              "      <th>4</th>\n",
              "      <td>4</td>\n",
              "      <td>Product2</td>\n",
              "      <td>3600</td>\n",
              "      <td>Visa</td>\n",
              "      <td>Gerd W</td>\n",
              "      <td>Cahaba Heights</td>\n",
              "      <td>AL</td>\n",
              "      <td>United States</td>\n",
              "      <td>11/15/08 15:47</td>\n",
              "      <td>4/9/01 12:45</td>\n",
              "      <td>33.520560</td>\n",
              "      <td>-86.802500</td>\n",
              "    </tr>\n",
              "    <tr>\n",
              "      <th>...</th>\n",
              "      <td>...</td>\n",
              "      <td>...</td>\n",
              "      <td>...</td>\n",
              "      <td>...</td>\n",
              "      <td>...</td>\n",
              "      <td>...</td>\n",
              "      <td>...</td>\n",
              "      <td>...</td>\n",
              "      <td>...</td>\n",
              "      <td>...</td>\n",
              "      <td>...</td>\n",
              "      <td>...</td>\n",
              "    </tr>\n",
              "    <tr>\n",
              "      <th>993</th>\n",
              "      <td>1</td>\n",
              "      <td>Product1</td>\n",
              "      <td>1200</td>\n",
              "      <td>Visa</td>\n",
              "      <td>Hans-Joerg</td>\n",
              "      <td>Belfast</td>\n",
              "      <td>Northern Ireland</td>\n",
              "      <td>United Kingdom</td>\n",
              "      <td>10/8/11 12:15</td>\n",
              "      <td>1/9/03 3:37</td>\n",
              "      <td>54.583333</td>\n",
              "      <td>-5.933333</td>\n",
              "    </tr>\n",
              "    <tr>\n",
              "      <th>994</th>\n",
              "      <td>1</td>\n",
              "      <td>Product2</td>\n",
              "      <td>3600</td>\n",
              "      <td>Visa</td>\n",
              "      <td>Christiane</td>\n",
              "      <td>Black River</td>\n",
              "      <td>Black River</td>\n",
              "      <td>Mauritius</td>\n",
              "      <td>9/9/01 8:10</td>\n",
              "      <td>1/9/03 4:40</td>\n",
              "      <td>-20.360278</td>\n",
              "      <td>57.366111</td>\n",
              "    </tr>\n",
              "    <tr>\n",
              "      <th>995</th>\n",
              "      <td>1</td>\n",
              "      <td>Product3</td>\n",
              "      <td>7500</td>\n",
              "      <td>Amex</td>\n",
              "      <td>Pamela</td>\n",
              "      <td>Skaneateles</td>\n",
              "      <td>NY</td>\n",
              "      <td>United States</td>\n",
              "      <td>12/28/08 17:28</td>\n",
              "      <td>1/9/03 7:21</td>\n",
              "      <td>42.946940</td>\n",
              "      <td>-76.429440</td>\n",
              "    </tr>\n",
              "    <tr>\n",
              "      <th>996</th>\n",
              "      <td>8</td>\n",
              "      <td>Product1</td>\n",
              "      <td>1200</td>\n",
              "      <td>Diners</td>\n",
              "      <td>julie</td>\n",
              "      <td>Haverhill</td>\n",
              "      <td>England</td>\n",
              "      <td>United Kingdom</td>\n",
              "      <td>11/29/06 13:31</td>\n",
              "      <td>1/9/03 7:28</td>\n",
              "      <td>52.083333</td>\n",
              "      <td>0.433333</td>\n",
              "    </tr>\n",
              "    <tr>\n",
              "      <th>997</th>\n",
              "      <td>12</td>\n",
              "      <td>Product1</td>\n",
              "      <td>1200</td>\n",
              "      <td>Visa</td>\n",
              "      <td>Julia</td>\n",
              "      <td>Madison</td>\n",
              "      <td>WI</td>\n",
              "      <td>United States</td>\n",
              "      <td>11/17/08 22:24</td>\n",
              "      <td>1/9/03 10:14</td>\n",
              "      <td>43.073060</td>\n",
              "      <td>-89.401110</td>\n",
              "    </tr>\n",
              "  </tbody>\n",
              "</table>\n",
              "<p>998 rows × 12 columns</p>\n",
              "</div>"
            ],
            "text/plain": [
              "     Transaction_month   Product Price  ...    Last_Login   Latitude   Longitude\n",
              "0                    2  Product1  1200  ...   2/9/01 6:08  51.500000   -1.116667\n",
              "1                    2  Product1  1200  ...   2/9/01 7:49  39.195000  -94.681940\n",
              "2                    2  Product1  1200  ...  3/9/01 12:32  46.188060 -123.830000\n",
              "3                    3  Product1  1200  ...  3/9/01 14:22 -36.133333  144.750000\n",
              "4                    4  Product2  3600  ...  4/9/01 12:45  33.520560  -86.802500\n",
              "..                 ...       ...   ...  ...           ...        ...         ...\n",
              "993                  1  Product1  1200  ...   1/9/03 3:37  54.583333   -5.933333\n",
              "994                  1  Product2  3600  ...   1/9/03 4:40 -20.360278   57.366111\n",
              "995                  1  Product3  7500  ...   1/9/03 7:21  42.946940  -76.429440\n",
              "996                  8  Product1  1200  ...   1/9/03 7:28  52.083333    0.433333\n",
              "997                 12  Product1  1200  ...  1/9/03 10:14  43.073060  -89.401110\n",
              "\n",
              "[998 rows x 12 columns]"
            ]
          },
          "metadata": {},
          "execution_count": 9
        }
      ]
    },
    {
      "cell_type": "code",
      "metadata": {
        "colab": {
          "base_uri": "https://localhost:8080/"
        },
        "id": "IPPXPbFGSCdq",
        "outputId": "109db9c9-58c3-4fe3-8520-e7fac5598acf"
      },
      "source": [
        "df['State'].unique()"
      ],
      "execution_count": 10,
      "outputs": [
        {
          "output_type": "execute_result",
          "data": {
            "text/plain": [
              "array(['England', 'MO', 'OR', 'Victoria', 'AL', 'NJ', 'IL', 'TN',\n",
              "       'Tel Aviv', 'Ile-de-France', 'NY', 'Noord-Brabant', 'TX', 'ID',\n",
              "       'Meath', 'Ontario', 'Andhra Pradesh', 'UT', 'Cork', 'Gauteng',\n",
              "       'CA', 'Ita-Suomen Laani', 'FL', 'Geneve', 'Noord-Holland', 'VA',\n",
              "       'Queensland', 'AZ', 'VT', 'GA', 'Frederiksborg', 'Kobenhavn',\n",
              "       'Dublin', 'IA', 'NC', 'Brussels (Bruxelles)', 'British Columbia',\n",
              "       'OH', 'Saskatchewan', 'Stockholm', 'NH', 'Vaud', 'MD', 'Rogaland',\n",
              "       'Alberta', 'Luxembourg', 'Northern Ireland', 'Lombardy', 'Oslo',\n",
              "       'Michigan', 'Nordrhein-Westfalen', 'Storstrom', 'HI', 'Chisinau',\n",
              "       'Murcia', 'Dubayy', 'CO', 'Al Manamah', 'Upper Normandy', 'KY',\n",
              "       'Groningen', 'Quebec', 'Istanbul', 'WA', 'Zuid-Holland',\n",
              "       'Kilkenny', 'Schwyz', 'Hessen', nan, 'AR', 'Northwest Territories',\n",
              "       'MN', 'Manitoba', 'DC', 'Lower Saxony', 'Basel-Country', 'MI',\n",
              "       'MA', 'CT', 'Scotland', 'New South Wales', 'LA', 'PA', 'Georgia',\n",
              "       'Saxony', 'AK', 'Skane', ' ', 'Brittany', 'NV', 'Budapest',\n",
              "       'Vienna', 'Veneto', \"Provence-Alpes-Cote d'Azur\", 'Vestfold',\n",
              "       'Bayern', 'Pays de la Loire', 'Virginia', 'Haryana',\n",
              "       'Rhineland-Palatinate', 'Rhone-Alpes', 'MT', 'NM', 'Kuala Lumpur',\n",
              "       'KwaZulu-Natal', 'Catalonia', 'KS', 'Vasterbotten', 'MS', 'Berlin',\n",
              "       'Vestsjalland', 'Hamburg', \"Soul-t'ukpyolsi\", 'Zurich', 'Abu Zaby',\n",
              "       'Sogn og Fjordane', 'Ceara', 'Zug', 'Taranaki', 'Auckland',\n",
              "       'Hordaland', 'Ticino', 'Antwerpen', 'Sao Paulo', 'Moscow City',\n",
              "       'Tipperary', 'Louth', 'Wicklow', 'Franche-Comte', 'IN',\n",
              "       'Krung Thep', 'Lower Austria', 'Stara Zagora', 'Riga', 'Madrid',\n",
              "       'Mayo', 'Bacs-Kiskun', 'Staden Kobenhavn', 'RI', 'WI', 'Waterford',\n",
              "       'Pomorskie', 'NE', 'Uppsala', 'Bohol', 'Westmeath', 'Buenos Aires',\n",
              "       'Andalucia', 'Thuringia', 'SC', 'South Australia', 'Tuscany',\n",
              "       'Western Australia', 'New Providence', 'Tokyo',\n",
              "       'Baden-Wurttemberg', 'Neuchatel', 'Tasmania', 'Freeport',\n",
              "       'Basel-Town', 'Wales', 'Gelderland', 'VI', 'Sardinia', 'Utrecht',\n",
              "       'Pais Vasco', 'Bern', 'Rio Grande do Sul', 'Kerry', 'ME',\n",
              "       'Saarland', 'Limerick', 'Alsace', 'Prague', 'Ostergotland',\n",
              "       'St Gallen', 'Central Bohemia', 'Kiev', 'Lazio', 'General Santos',\n",
              "       'Arhus', 'Pest', 'Distrito Nacional', 'Minas Gerais', 'Lorraine',\n",
              "       'Guangdong', 'DE', 'Phuket', 'Attiki', 'Hainaut', 'Santa Catarina',\n",
              "       'Aargau', 'Heredia', 'Mazowieckie', 'Hamilton', 'Buskerud',\n",
              "       'Sicilia', 'Yukon Territory', 'Tyrol', 'East Bohemia', 'Bucuresti',\n",
              "       'Izmir', 'Guatemala', 'Etela-Suomen Laani', 'Black River'],\n",
              "      dtype=object)"
            ]
          },
          "metadata": {},
          "execution_count": 10
        }
      ]
    },
    {
      "cell_type": "code",
      "metadata": {
        "colab": {
          "base_uri": "https://localhost:8080/"
        },
        "id": "oD4Un6arSJlj",
        "outputId": "77859882-696f-44a9-b4e4-33e89d45afd2"
      },
      "source": [
        "df['Product'] = df['Product'].str.replace(' ', '')\n",
        "df['Product'].unique()"
      ],
      "execution_count": 11,
      "outputs": [
        {
          "output_type": "execute_result",
          "data": {
            "text/plain": [
              "array(['Product1', 'Product2', 'Product3'], dtype=object)"
            ]
          },
          "metadata": {},
          "execution_count": 11
        }
      ]
    },
    {
      "cell_type": "code",
      "metadata": {
        "colab": {
          "base_uri": "https://localhost:8080/",
          "height": 419
        },
        "id": "ukHZPYWgSb8E",
        "outputId": "813ebe8b-ef4f-4c4d-ecee-6286cc348b96"
      },
      "source": [
        "df['City'].unique()\n",
        "df['City'] = df['City'].str.replace('  ', '')\n",
        "df['City'].unique()\n",
        "df"
      ],
      "execution_count": 12,
      "outputs": [
        {
          "output_type": "execute_result",
          "data": {
            "text/html": [
              "<div>\n",
              "<style scoped>\n",
              "    .dataframe tbody tr th:only-of-type {\n",
              "        vertical-align: middle;\n",
              "    }\n",
              "\n",
              "    .dataframe tbody tr th {\n",
              "        vertical-align: top;\n",
              "    }\n",
              "\n",
              "    .dataframe thead th {\n",
              "        text-align: right;\n",
              "    }\n",
              "</style>\n",
              "<table border=\"1\" class=\"dataframe\">\n",
              "  <thead>\n",
              "    <tr style=\"text-align: right;\">\n",
              "      <th></th>\n",
              "      <th>Transaction_month</th>\n",
              "      <th>Product</th>\n",
              "      <th>Price</th>\n",
              "      <th>Payment_Type</th>\n",
              "      <th>Name</th>\n",
              "      <th>City</th>\n",
              "      <th>State</th>\n",
              "      <th>Country</th>\n",
              "      <th>Account_Created</th>\n",
              "      <th>Last_Login</th>\n",
              "      <th>Latitude</th>\n",
              "      <th>Longitude</th>\n",
              "    </tr>\n",
              "  </thead>\n",
              "  <tbody>\n",
              "    <tr>\n",
              "      <th>0</th>\n",
              "      <td>2</td>\n",
              "      <td>Product1</td>\n",
              "      <td>1200</td>\n",
              "      <td>Mastercard</td>\n",
              "      <td>carolina</td>\n",
              "      <td>Basildon</td>\n",
              "      <td>England</td>\n",
              "      <td>United Kingdom</td>\n",
              "      <td>2/9/01 6:00</td>\n",
              "      <td>2/9/01 6:08</td>\n",
              "      <td>51.500000</td>\n",
              "      <td>-1.116667</td>\n",
              "    </tr>\n",
              "    <tr>\n",
              "      <th>1</th>\n",
              "      <td>2</td>\n",
              "      <td>Product1</td>\n",
              "      <td>1200</td>\n",
              "      <td>Visa</td>\n",
              "      <td>Betina</td>\n",
              "      <td>Parkville</td>\n",
              "      <td>MO</td>\n",
              "      <td>United States</td>\n",
              "      <td>2/9/01 4:42</td>\n",
              "      <td>2/9/01 7:49</td>\n",
              "      <td>39.195000</td>\n",
              "      <td>-94.681940</td>\n",
              "    </tr>\n",
              "    <tr>\n",
              "      <th>2</th>\n",
              "      <td>2</td>\n",
              "      <td>Product1</td>\n",
              "      <td>1200</td>\n",
              "      <td>Mastercard</td>\n",
              "      <td>Federica e Andrea</td>\n",
              "      <td>Astoria</td>\n",
              "      <td>OR</td>\n",
              "      <td>United States</td>\n",
              "      <td>1/9/01 16:21</td>\n",
              "      <td>3/9/01 12:32</td>\n",
              "      <td>46.188060</td>\n",
              "      <td>-123.830000</td>\n",
              "    </tr>\n",
              "    <tr>\n",
              "      <th>3</th>\n",
              "      <td>3</td>\n",
              "      <td>Product1</td>\n",
              "      <td>1200</td>\n",
              "      <td>Visa</td>\n",
              "      <td>Gouya</td>\n",
              "      <td>Echuca</td>\n",
              "      <td>Victoria</td>\n",
              "      <td>Australia</td>\n",
              "      <td>9/25/05 21:13</td>\n",
              "      <td>3/9/01 14:22</td>\n",
              "      <td>-36.133333</td>\n",
              "      <td>144.750000</td>\n",
              "    </tr>\n",
              "    <tr>\n",
              "      <th>4</th>\n",
              "      <td>4</td>\n",
              "      <td>Product2</td>\n",
              "      <td>3600</td>\n",
              "      <td>Visa</td>\n",
              "      <td>Gerd W</td>\n",
              "      <td>Cahaba Heights</td>\n",
              "      <td>AL</td>\n",
              "      <td>United States</td>\n",
              "      <td>11/15/08 15:47</td>\n",
              "      <td>4/9/01 12:45</td>\n",
              "      <td>33.520560</td>\n",
              "      <td>-86.802500</td>\n",
              "    </tr>\n",
              "    <tr>\n",
              "      <th>...</th>\n",
              "      <td>...</td>\n",
              "      <td>...</td>\n",
              "      <td>...</td>\n",
              "      <td>...</td>\n",
              "      <td>...</td>\n",
              "      <td>...</td>\n",
              "      <td>...</td>\n",
              "      <td>...</td>\n",
              "      <td>...</td>\n",
              "      <td>...</td>\n",
              "      <td>...</td>\n",
              "      <td>...</td>\n",
              "    </tr>\n",
              "    <tr>\n",
              "      <th>993</th>\n",
              "      <td>1</td>\n",
              "      <td>Product1</td>\n",
              "      <td>1200</td>\n",
              "      <td>Visa</td>\n",
              "      <td>Hans-Joerg</td>\n",
              "      <td>Belfast</td>\n",
              "      <td>Northern Ireland</td>\n",
              "      <td>United Kingdom</td>\n",
              "      <td>10/8/11 12:15</td>\n",
              "      <td>1/9/03 3:37</td>\n",
              "      <td>54.583333</td>\n",
              "      <td>-5.933333</td>\n",
              "    </tr>\n",
              "    <tr>\n",
              "      <th>994</th>\n",
              "      <td>1</td>\n",
              "      <td>Product2</td>\n",
              "      <td>3600</td>\n",
              "      <td>Visa</td>\n",
              "      <td>Christiane</td>\n",
              "      <td>Black River</td>\n",
              "      <td>Black River</td>\n",
              "      <td>Mauritius</td>\n",
              "      <td>9/9/01 8:10</td>\n",
              "      <td>1/9/03 4:40</td>\n",
              "      <td>-20.360278</td>\n",
              "      <td>57.366111</td>\n",
              "    </tr>\n",
              "    <tr>\n",
              "      <th>995</th>\n",
              "      <td>1</td>\n",
              "      <td>Product3</td>\n",
              "      <td>7500</td>\n",
              "      <td>Amex</td>\n",
              "      <td>Pamela</td>\n",
              "      <td>Skaneateles</td>\n",
              "      <td>NY</td>\n",
              "      <td>United States</td>\n",
              "      <td>12/28/08 17:28</td>\n",
              "      <td>1/9/03 7:21</td>\n",
              "      <td>42.946940</td>\n",
              "      <td>-76.429440</td>\n",
              "    </tr>\n",
              "    <tr>\n",
              "      <th>996</th>\n",
              "      <td>8</td>\n",
              "      <td>Product1</td>\n",
              "      <td>1200</td>\n",
              "      <td>Diners</td>\n",
              "      <td>julie</td>\n",
              "      <td>Haverhill</td>\n",
              "      <td>England</td>\n",
              "      <td>United Kingdom</td>\n",
              "      <td>11/29/06 13:31</td>\n",
              "      <td>1/9/03 7:28</td>\n",
              "      <td>52.083333</td>\n",
              "      <td>0.433333</td>\n",
              "    </tr>\n",
              "    <tr>\n",
              "      <th>997</th>\n",
              "      <td>12</td>\n",
              "      <td>Product1</td>\n",
              "      <td>1200</td>\n",
              "      <td>Visa</td>\n",
              "      <td>Julia</td>\n",
              "      <td>Madison</td>\n",
              "      <td>WI</td>\n",
              "      <td>United States</td>\n",
              "      <td>11/17/08 22:24</td>\n",
              "      <td>1/9/03 10:14</td>\n",
              "      <td>43.073060</td>\n",
              "      <td>-89.401110</td>\n",
              "    </tr>\n",
              "  </tbody>\n",
              "</table>\n",
              "<p>998 rows × 12 columns</p>\n",
              "</div>"
            ],
            "text/plain": [
              "     Transaction_month   Product Price  ...    Last_Login   Latitude   Longitude\n",
              "0                    2  Product1  1200  ...   2/9/01 6:08  51.500000   -1.116667\n",
              "1                    2  Product1  1200  ...   2/9/01 7:49  39.195000  -94.681940\n",
              "2                    2  Product1  1200  ...  3/9/01 12:32  46.188060 -123.830000\n",
              "3                    3  Product1  1200  ...  3/9/01 14:22 -36.133333  144.750000\n",
              "4                    4  Product2  3600  ...  4/9/01 12:45  33.520560  -86.802500\n",
              "..                 ...       ...   ...  ...           ...        ...         ...\n",
              "993                  1  Product1  1200  ...   1/9/03 3:37  54.583333   -5.933333\n",
              "994                  1  Product2  3600  ...   1/9/03 4:40 -20.360278   57.366111\n",
              "995                  1  Product3  7500  ...   1/9/03 7:21  42.946940  -76.429440\n",
              "996                  8  Product1  1200  ...   1/9/03 7:28  52.083333    0.433333\n",
              "997                 12  Product1  1200  ...  1/9/03 10:14  43.073060  -89.401110\n",
              "\n",
              "[998 rows x 12 columns]"
            ]
          },
          "metadata": {},
          "execution_count": 12
        }
      ]
    },
    {
      "cell_type": "code",
      "metadata": {
        "colab": {
          "base_uri": "https://localhost:8080/"
        },
        "id": "RJBdOPiaTZ2a",
        "outputId": "9e1eb9b7-a006-46bb-d287-f09f721aae0f"
      },
      "source": [
        "df['Payment_Type'].unique()"
      ],
      "execution_count": 13,
      "outputs": [
        {
          "output_type": "execute_result",
          "data": {
            "text/plain": [
              "array(['Mastercard', 'Visa', 'Diners', 'Amex'], dtype=object)"
            ]
          },
          "metadata": {},
          "execution_count": 13
        }
      ]
    },
    {
      "cell_type": "code",
      "metadata": {
        "id": "9KUgtpOA3KHZ"
      },
      "source": [
        "# Questions"
      ],
      "execution_count": 14,
      "outputs": []
    },
    {
      "cell_type": "code",
      "metadata": {
        "id": "lxM2BiW53cDK",
        "colab": {
          "base_uri": "https://localhost:8080/",
          "height": 359
        },
        "outputId": "7cdf99df-0d6c-4f80-be46-b5240c93f76a"
      },
      "source": [
        "# Top 10 Index\n",
        "df.head(10)"
      ],
      "execution_count": 15,
      "outputs": [
        {
          "output_type": "execute_result",
          "data": {
            "text/html": [
              "<div>\n",
              "<style scoped>\n",
              "    .dataframe tbody tr th:only-of-type {\n",
              "        vertical-align: middle;\n",
              "    }\n",
              "\n",
              "    .dataframe tbody tr th {\n",
              "        vertical-align: top;\n",
              "    }\n",
              "\n",
              "    .dataframe thead th {\n",
              "        text-align: right;\n",
              "    }\n",
              "</style>\n",
              "<table border=\"1\" class=\"dataframe\">\n",
              "  <thead>\n",
              "    <tr style=\"text-align: right;\">\n",
              "      <th></th>\n",
              "      <th>Transaction_month</th>\n",
              "      <th>Product</th>\n",
              "      <th>Price</th>\n",
              "      <th>Payment_Type</th>\n",
              "      <th>Name</th>\n",
              "      <th>City</th>\n",
              "      <th>State</th>\n",
              "      <th>Country</th>\n",
              "      <th>Account_Created</th>\n",
              "      <th>Last_Login</th>\n",
              "      <th>Latitude</th>\n",
              "      <th>Longitude</th>\n",
              "    </tr>\n",
              "  </thead>\n",
              "  <tbody>\n",
              "    <tr>\n",
              "      <th>0</th>\n",
              "      <td>2</td>\n",
              "      <td>Product1</td>\n",
              "      <td>1200</td>\n",
              "      <td>Mastercard</td>\n",
              "      <td>carolina</td>\n",
              "      <td>Basildon</td>\n",
              "      <td>England</td>\n",
              "      <td>United Kingdom</td>\n",
              "      <td>2/9/01 6:00</td>\n",
              "      <td>2/9/01 6:08</td>\n",
              "      <td>51.500000</td>\n",
              "      <td>-1.116667</td>\n",
              "    </tr>\n",
              "    <tr>\n",
              "      <th>1</th>\n",
              "      <td>2</td>\n",
              "      <td>Product1</td>\n",
              "      <td>1200</td>\n",
              "      <td>Visa</td>\n",
              "      <td>Betina</td>\n",
              "      <td>Parkville</td>\n",
              "      <td>MO</td>\n",
              "      <td>United States</td>\n",
              "      <td>2/9/01 4:42</td>\n",
              "      <td>2/9/01 7:49</td>\n",
              "      <td>39.195000</td>\n",
              "      <td>-94.681940</td>\n",
              "    </tr>\n",
              "    <tr>\n",
              "      <th>2</th>\n",
              "      <td>2</td>\n",
              "      <td>Product1</td>\n",
              "      <td>1200</td>\n",
              "      <td>Mastercard</td>\n",
              "      <td>Federica e Andrea</td>\n",
              "      <td>Astoria</td>\n",
              "      <td>OR</td>\n",
              "      <td>United States</td>\n",
              "      <td>1/9/01 16:21</td>\n",
              "      <td>3/9/01 12:32</td>\n",
              "      <td>46.188060</td>\n",
              "      <td>-123.830000</td>\n",
              "    </tr>\n",
              "    <tr>\n",
              "      <th>3</th>\n",
              "      <td>3</td>\n",
              "      <td>Product1</td>\n",
              "      <td>1200</td>\n",
              "      <td>Visa</td>\n",
              "      <td>Gouya</td>\n",
              "      <td>Echuca</td>\n",
              "      <td>Victoria</td>\n",
              "      <td>Australia</td>\n",
              "      <td>9/25/05 21:13</td>\n",
              "      <td>3/9/01 14:22</td>\n",
              "      <td>-36.133333</td>\n",
              "      <td>144.750000</td>\n",
              "    </tr>\n",
              "    <tr>\n",
              "      <th>4</th>\n",
              "      <td>4</td>\n",
              "      <td>Product2</td>\n",
              "      <td>3600</td>\n",
              "      <td>Visa</td>\n",
              "      <td>Gerd W</td>\n",
              "      <td>Cahaba Heights</td>\n",
              "      <td>AL</td>\n",
              "      <td>United States</td>\n",
              "      <td>11/15/08 15:47</td>\n",
              "      <td>4/9/01 12:45</td>\n",
              "      <td>33.520560</td>\n",
              "      <td>-86.802500</td>\n",
              "    </tr>\n",
              "    <tr>\n",
              "      <th>5</th>\n",
              "      <td>4</td>\n",
              "      <td>Product1</td>\n",
              "      <td>1200</td>\n",
              "      <td>Visa</td>\n",
              "      <td>LAURENCE</td>\n",
              "      <td>Mickleton</td>\n",
              "      <td>NJ</td>\n",
              "      <td>United States</td>\n",
              "      <td>9/24/08 15:19</td>\n",
              "      <td>4/9/01 13:04</td>\n",
              "      <td>39.790000</td>\n",
              "      <td>-75.238060</td>\n",
              "    </tr>\n",
              "    <tr>\n",
              "      <th>6</th>\n",
              "      <td>4</td>\n",
              "      <td>Product1</td>\n",
              "      <td>1200</td>\n",
              "      <td>Mastercard</td>\n",
              "      <td>Fleur</td>\n",
              "      <td>Peoria</td>\n",
              "      <td>IL</td>\n",
              "      <td>United States</td>\n",
              "      <td>3/9/01 9:38</td>\n",
              "      <td>4/9/01 19:45</td>\n",
              "      <td>40.693610</td>\n",
              "      <td>-89.588890</td>\n",
              "    </tr>\n",
              "    <tr>\n",
              "      <th>7</th>\n",
              "      <td>2</td>\n",
              "      <td>Product1</td>\n",
              "      <td>1200</td>\n",
              "      <td>Mastercard</td>\n",
              "      <td>adam</td>\n",
              "      <td>Martin</td>\n",
              "      <td>TN</td>\n",
              "      <td>United States</td>\n",
              "      <td>2/9/01 17:43</td>\n",
              "      <td>4/9/01 20:01</td>\n",
              "      <td>36.343330</td>\n",
              "      <td>-88.850280</td>\n",
              "    </tr>\n",
              "    <tr>\n",
              "      <th>8</th>\n",
              "      <td>4</td>\n",
              "      <td>Product1</td>\n",
              "      <td>1200</td>\n",
              "      <td>Mastercard</td>\n",
              "      <td>Renee Elisabeth</td>\n",
              "      <td>Tel Aviv</td>\n",
              "      <td>Tel Aviv</td>\n",
              "      <td>Israel</td>\n",
              "      <td>4/9/01 13:03</td>\n",
              "      <td>4/9/01 22:10</td>\n",
              "      <td>32.066667</td>\n",
              "      <td>34.766667</td>\n",
              "    </tr>\n",
              "    <tr>\n",
              "      <th>9</th>\n",
              "      <td>4</td>\n",
              "      <td>Product1</td>\n",
              "      <td>1200</td>\n",
              "      <td>Visa</td>\n",
              "      <td>Aidan</td>\n",
              "      <td>Chatou</td>\n",
              "      <td>Ile-de-France</td>\n",
              "      <td>France</td>\n",
              "      <td>3/8/06 4:22</td>\n",
              "      <td>5/9/01 1:17</td>\n",
              "      <td>48.883333</td>\n",
              "      <td>2.150000</td>\n",
              "    </tr>\n",
              "  </tbody>\n",
              "</table>\n",
              "</div>"
            ],
            "text/plain": [
              "   Transaction_month   Product Price  ...    Last_Login   Latitude   Longitude\n",
              "0                  2  Product1  1200  ...   2/9/01 6:08  51.500000   -1.116667\n",
              "1                  2  Product1  1200  ...   2/9/01 7:49  39.195000  -94.681940\n",
              "2                  2  Product1  1200  ...  3/9/01 12:32  46.188060 -123.830000\n",
              "3                  3  Product1  1200  ...  3/9/01 14:22 -36.133333  144.750000\n",
              "4                  4  Product2  3600  ...  4/9/01 12:45  33.520560  -86.802500\n",
              "5                  4  Product1  1200  ...  4/9/01 13:04  39.790000  -75.238060\n",
              "6                  4  Product1  1200  ...  4/9/01 19:45  40.693610  -89.588890\n",
              "7                  2  Product1  1200  ...  4/9/01 20:01  36.343330  -88.850280\n",
              "8                  4  Product1  1200  ...  4/9/01 22:10  32.066667   34.766667\n",
              "9                  4  Product1  1200  ...   5/9/01 1:17  48.883333    2.150000\n",
              "\n",
              "[10 rows x 12 columns]"
            ]
          },
          "metadata": {},
          "execution_count": 15
        }
      ]
    },
    {
      "cell_type": "code",
      "metadata": {
        "id": "KQEcoJLv3pYz",
        "colab": {
          "base_uri": "https://localhost:8080/",
          "height": 204
        },
        "outputId": "4225f7b4-82ba-4231-c0cb-f25e42b8e3c1"
      },
      "source": [
        "# Bottom 5 Index\n",
        "df.tail(5)"
      ],
      "execution_count": 16,
      "outputs": [
        {
          "output_type": "execute_result",
          "data": {
            "text/html": [
              "<div>\n",
              "<style scoped>\n",
              "    .dataframe tbody tr th:only-of-type {\n",
              "        vertical-align: middle;\n",
              "    }\n",
              "\n",
              "    .dataframe tbody tr th {\n",
              "        vertical-align: top;\n",
              "    }\n",
              "\n",
              "    .dataframe thead th {\n",
              "        text-align: right;\n",
              "    }\n",
              "</style>\n",
              "<table border=\"1\" class=\"dataframe\">\n",
              "  <thead>\n",
              "    <tr style=\"text-align: right;\">\n",
              "      <th></th>\n",
              "      <th>Transaction_month</th>\n",
              "      <th>Product</th>\n",
              "      <th>Price</th>\n",
              "      <th>Payment_Type</th>\n",
              "      <th>Name</th>\n",
              "      <th>City</th>\n",
              "      <th>State</th>\n",
              "      <th>Country</th>\n",
              "      <th>Account_Created</th>\n",
              "      <th>Last_Login</th>\n",
              "      <th>Latitude</th>\n",
              "      <th>Longitude</th>\n",
              "    </tr>\n",
              "  </thead>\n",
              "  <tbody>\n",
              "    <tr>\n",
              "      <th>993</th>\n",
              "      <td>1</td>\n",
              "      <td>Product1</td>\n",
              "      <td>1200</td>\n",
              "      <td>Visa</td>\n",
              "      <td>Hans-Joerg</td>\n",
              "      <td>Belfast</td>\n",
              "      <td>Northern Ireland</td>\n",
              "      <td>United Kingdom</td>\n",
              "      <td>10/8/11 12:15</td>\n",
              "      <td>1/9/03 3:37</td>\n",
              "      <td>54.583333</td>\n",
              "      <td>-5.933333</td>\n",
              "    </tr>\n",
              "    <tr>\n",
              "      <th>994</th>\n",
              "      <td>1</td>\n",
              "      <td>Product2</td>\n",
              "      <td>3600</td>\n",
              "      <td>Visa</td>\n",
              "      <td>Christiane</td>\n",
              "      <td>Black River</td>\n",
              "      <td>Black River</td>\n",
              "      <td>Mauritius</td>\n",
              "      <td>9/9/01 8:10</td>\n",
              "      <td>1/9/03 4:40</td>\n",
              "      <td>-20.360278</td>\n",
              "      <td>57.366111</td>\n",
              "    </tr>\n",
              "    <tr>\n",
              "      <th>995</th>\n",
              "      <td>1</td>\n",
              "      <td>Product3</td>\n",
              "      <td>7500</td>\n",
              "      <td>Amex</td>\n",
              "      <td>Pamela</td>\n",
              "      <td>Skaneateles</td>\n",
              "      <td>NY</td>\n",
              "      <td>United States</td>\n",
              "      <td>12/28/08 17:28</td>\n",
              "      <td>1/9/03 7:21</td>\n",
              "      <td>42.946940</td>\n",
              "      <td>-76.429440</td>\n",
              "    </tr>\n",
              "    <tr>\n",
              "      <th>996</th>\n",
              "      <td>8</td>\n",
              "      <td>Product1</td>\n",
              "      <td>1200</td>\n",
              "      <td>Diners</td>\n",
              "      <td>julie</td>\n",
              "      <td>Haverhill</td>\n",
              "      <td>England</td>\n",
              "      <td>United Kingdom</td>\n",
              "      <td>11/29/06 13:31</td>\n",
              "      <td>1/9/03 7:28</td>\n",
              "      <td>52.083333</td>\n",
              "      <td>0.433333</td>\n",
              "    </tr>\n",
              "    <tr>\n",
              "      <th>997</th>\n",
              "      <td>12</td>\n",
              "      <td>Product1</td>\n",
              "      <td>1200</td>\n",
              "      <td>Visa</td>\n",
              "      <td>Julia</td>\n",
              "      <td>Madison</td>\n",
              "      <td>WI</td>\n",
              "      <td>United States</td>\n",
              "      <td>11/17/08 22:24</td>\n",
              "      <td>1/9/03 10:14</td>\n",
              "      <td>43.073060</td>\n",
              "      <td>-89.401110</td>\n",
              "    </tr>\n",
              "  </tbody>\n",
              "</table>\n",
              "</div>"
            ],
            "text/plain": [
              "     Transaction_month   Product Price  ...    Last_Login   Latitude  Longitude\n",
              "993                  1  Product1  1200  ...   1/9/03 3:37  54.583333  -5.933333\n",
              "994                  1  Product2  3600  ...   1/9/03 4:40 -20.360278  57.366111\n",
              "995                  1  Product3  7500  ...   1/9/03 7:21  42.946940 -76.429440\n",
              "996                  8  Product1  1200  ...   1/9/03 7:28  52.083333   0.433333\n",
              "997                 12  Product1  1200  ...  1/9/03 10:14  43.073060 -89.401110\n",
              "\n",
              "[5 rows x 12 columns]"
            ]
          },
          "metadata": {},
          "execution_count": 16
        }
      ]
    },
    {
      "cell_type": "code",
      "metadata": {
        "id": "e7Pl1KYXDeoc",
        "colab": {
          "base_uri": "https://localhost:8080/",
          "height": 419
        },
        "outputId": "bced2a60-83a3-4091-d61c-687b042cb019"
      },
      "source": [
        "#Sort By Latitude\n",
        "df.sort_values(by='Latitude' ,ascending=False)"
      ],
      "execution_count": 17,
      "outputs": [
        {
          "output_type": "execute_result",
          "data": {
            "text/html": [
              "<div>\n",
              "<style scoped>\n",
              "    .dataframe tbody tr th:only-of-type {\n",
              "        vertical-align: middle;\n",
              "    }\n",
              "\n",
              "    .dataframe tbody tr th {\n",
              "        vertical-align: top;\n",
              "    }\n",
              "\n",
              "    .dataframe thead th {\n",
              "        text-align: right;\n",
              "    }\n",
              "</style>\n",
              "<table border=\"1\" class=\"dataframe\">\n",
              "  <thead>\n",
              "    <tr style=\"text-align: right;\">\n",
              "      <th></th>\n",
              "      <th>Transaction_month</th>\n",
              "      <th>Product</th>\n",
              "      <th>Price</th>\n",
              "      <th>Payment_Type</th>\n",
              "      <th>Name</th>\n",
              "      <th>City</th>\n",
              "      <th>State</th>\n",
              "      <th>Country</th>\n",
              "      <th>Account_Created</th>\n",
              "      <th>Last_Login</th>\n",
              "      <th>Latitude</th>\n",
              "      <th>Longitude</th>\n",
              "    </tr>\n",
              "  </thead>\n",
              "  <tbody>\n",
              "    <tr>\n",
              "      <th>360</th>\n",
              "      <td>1</td>\n",
              "      <td>Product1</td>\n",
              "      <td>1200</td>\n",
              "      <td>Visa</td>\n",
              "      <td>Eleanor</td>\n",
              "      <td>Fairbanks</td>\n",
              "      <td>AK</td>\n",
              "      <td>United States</td>\n",
              "      <td>6/9/01 0:18</td>\n",
              "      <td>1/28/09 23:56</td>\n",
              "      <td>64.837780</td>\n",
              "      <td>-147.716390</td>\n",
              "    </tr>\n",
              "    <tr>\n",
              "      <th>338</th>\n",
              "      <td>12</td>\n",
              "      <td>Product1</td>\n",
              "      <td>1200</td>\n",
              "      <td>Visa</td>\n",
              "      <td>Camille and Carmen</td>\n",
              "      <td>Thorlakshofn</td>\n",
              "      <td></td>\n",
              "      <td>Iceland</td>\n",
              "      <td>12/9/01 11:41</td>\n",
              "      <td>1/28/09 8:44</td>\n",
              "      <td>63.850000</td>\n",
              "      <td>-21.366667</td>\n",
              "    </tr>\n",
              "    <tr>\n",
              "      <th>342</th>\n",
              "      <td>1</td>\n",
              "      <td>Product1</td>\n",
              "      <td>1200</td>\n",
              "      <td>Visa</td>\n",
              "      <td>Marion</td>\n",
              "      <td>Umea</td>\n",
              "      <td>Vasterbotten</td>\n",
              "      <td>Sweden</td>\n",
              "      <td>1/25/09 16:35</td>\n",
              "      <td>1/28/09 10:19</td>\n",
              "      <td>63.833333</td>\n",
              "      <td>20.250000</td>\n",
              "    </tr>\n",
              "    <tr>\n",
              "      <th>24</th>\n",
              "      <td>2</td>\n",
              "      <td>Product1</td>\n",
              "      <td>1200</td>\n",
              "      <td>Mastercard</td>\n",
              "      <td>Lena</td>\n",
              "      <td>Kuopio</td>\n",
              "      <td>Ita-Suomen Laani</td>\n",
              "      <td>Finland</td>\n",
              "      <td>12/31/08 2:48</td>\n",
              "      <td>7/9/01 10:20</td>\n",
              "      <td>62.900000</td>\n",
              "      <td>27.683333</td>\n",
              "    </tr>\n",
              "    <tr>\n",
              "      <th>156</th>\n",
              "      <td>4</td>\n",
              "      <td>Product1</td>\n",
              "      <td>1200</td>\n",
              "      <td>Diners</td>\n",
              "      <td>Sarka</td>\n",
              "      <td>Yellowknife</td>\n",
              "      <td>Northwest Territories</td>\n",
              "      <td>Canada</td>\n",
              "      <td>4/9/01 22:41</td>\n",
              "      <td>1/18/09 16:17</td>\n",
              "      <td>62.450000</td>\n",
              "      <td>-114.350000</td>\n",
              "    </tr>\n",
              "    <tr>\n",
              "      <th>...</th>\n",
              "      <td>...</td>\n",
              "      <td>...</td>\n",
              "      <td>...</td>\n",
              "      <td>...</td>\n",
              "      <td>...</td>\n",
              "      <td>...</td>\n",
              "      <td>...</td>\n",
              "      <td>...</td>\n",
              "      <td>...</td>\n",
              "      <td>...</td>\n",
              "      <td>...</td>\n",
              "      <td>...</td>\n",
              "    </tr>\n",
              "    <tr>\n",
              "      <th>389</th>\n",
              "      <td>1</td>\n",
              "      <td>Product1</td>\n",
              "      <td>1200</td>\n",
              "      <td>Mastercard</td>\n",
              "      <td>Nicole</td>\n",
              "      <td>South Melbourne</td>\n",
              "      <td>Victoria</td>\n",
              "      <td>Australia</td>\n",
              "      <td>12/30/08 0:55</td>\n",
              "      <td>1/31/09 5:40</td>\n",
              "      <td>-37.833333</td>\n",
              "      <td>144.966667</td>\n",
              "    </tr>\n",
              "    <tr>\n",
              "      <th>662</th>\n",
              "      <td>1</td>\n",
              "      <td>Product1</td>\n",
              "      <td>1200</td>\n",
              "      <td>Mastercard</td>\n",
              "      <td>Tina</td>\n",
              "      <td>Anglesea</td>\n",
              "      <td>Victoria</td>\n",
              "      <td>Australia</td>\n",
              "      <td>10/20/08 18:27</td>\n",
              "      <td>12/9/02 14:58</td>\n",
              "      <td>-38.416667</td>\n",
              "      <td>144.166667</td>\n",
              "    </tr>\n",
              "    <tr>\n",
              "      <th>402</th>\n",
              "      <td>8</td>\n",
              "      <td>Product1</td>\n",
              "      <td>1200</td>\n",
              "      <td>Visa</td>\n",
              "      <td>ZOE</td>\n",
              "      <td>New Plymouth City</td>\n",
              "      <td>Taranaki</td>\n",
              "      <td>New Zealand</td>\n",
              "      <td>7/9/01 23:34</td>\n",
              "      <td>1/31/09 17:47</td>\n",
              "      <td>-39.066667</td>\n",
              "      <td>174.083333</td>\n",
              "    </tr>\n",
              "    <tr>\n",
              "      <th>981</th>\n",
              "      <td>1</td>\n",
              "      <td>Product1</td>\n",
              "      <td>1200</td>\n",
              "      <td>Visa</td>\n",
              "      <td>Hale</td>\n",
              "      <td>Hawera</td>\n",
              "      <td>Taranaki</td>\n",
              "      <td>New Zealand</td>\n",
              "      <td>1/23/09 22:31</td>\n",
              "      <td>2/28/09 12:43</td>\n",
              "      <td>-39.591667</td>\n",
              "      <td>174.283333</td>\n",
              "    </tr>\n",
              "    <tr>\n",
              "      <th>703</th>\n",
              "      <td>3</td>\n",
              "      <td>Product2</td>\n",
              "      <td>3600</td>\n",
              "      <td>Visa</td>\n",
              "      <td>Kees en Valesca</td>\n",
              "      <td>Scamander</td>\n",
              "      <td>Tasmania</td>\n",
              "      <td>Australia</td>\n",
              "      <td>3/9/01 13:53</td>\n",
              "      <td>2/14/09 20:11</td>\n",
              "      <td>-41.465000</td>\n",
              "      <td>148.257222</td>\n",
              "    </tr>\n",
              "  </tbody>\n",
              "</table>\n",
              "<p>998 rows × 12 columns</p>\n",
              "</div>"
            ],
            "text/plain": [
              "     Transaction_month   Product Price  ...     Last_Login   Latitude   Longitude\n",
              "360                  1  Product1  1200  ...  1/28/09 23:56  64.837780 -147.716390\n",
              "338                 12  Product1  1200  ...   1/28/09 8:44  63.850000  -21.366667\n",
              "342                  1  Product1  1200  ...  1/28/09 10:19  63.833333   20.250000\n",
              "24                   2  Product1  1200  ...   7/9/01 10:20  62.900000   27.683333\n",
              "156                  4  Product1  1200  ...  1/18/09 16:17  62.450000 -114.350000\n",
              "..                 ...       ...   ...  ...            ...        ...         ...\n",
              "389                  1  Product1  1200  ...   1/31/09 5:40 -37.833333  144.966667\n",
              "662                  1  Product1  1200  ...  12/9/02 14:58 -38.416667  144.166667\n",
              "402                  8  Product1  1200  ...  1/31/09 17:47 -39.066667  174.083333\n",
              "981                  1  Product1  1200  ...  2/28/09 12:43 -39.591667  174.283333\n",
              "703                  3  Product2  3600  ...  2/14/09 20:11 -41.465000  148.257222\n",
              "\n",
              "[998 rows x 12 columns]"
            ]
          },
          "metadata": {},
          "execution_count": 17
        }
      ]
    },
    {
      "cell_type": "code",
      "metadata": {
        "id": "UNkkCjmQ3u9I",
        "colab": {
          "base_uri": "https://localhost:8080/",
          "height": 359
        },
        "outputId": "ac0a1765-18ca-4c72-d7de-07adf0d5df48"
      },
      "source": [
        "#Clean Price and Sort\n",
        "df['Price'] = df['Price'].str.replace(',', '')\n",
        "#df['Price'].unique()\n",
        "df['Price'] = df['Price'].astype(int)\n",
        "df.sort_values(by=['Price'], ascending=False).head(10)\n"
      ],
      "execution_count": 18,
      "outputs": [
        {
          "output_type": "execute_result",
          "data": {
            "text/html": [
              "<div>\n",
              "<style scoped>\n",
              "    .dataframe tbody tr th:only-of-type {\n",
              "        vertical-align: middle;\n",
              "    }\n",
              "\n",
              "    .dataframe tbody tr th {\n",
              "        vertical-align: top;\n",
              "    }\n",
              "\n",
              "    .dataframe thead th {\n",
              "        text-align: right;\n",
              "    }\n",
              "</style>\n",
              "<table border=\"1\" class=\"dataframe\">\n",
              "  <thead>\n",
              "    <tr style=\"text-align: right;\">\n",
              "      <th></th>\n",
              "      <th>Transaction_month</th>\n",
              "      <th>Product</th>\n",
              "      <th>Price</th>\n",
              "      <th>Payment_Type</th>\n",
              "      <th>Name</th>\n",
              "      <th>City</th>\n",
              "      <th>State</th>\n",
              "      <th>Country</th>\n",
              "      <th>Account_Created</th>\n",
              "      <th>Last_Login</th>\n",
              "      <th>Latitude</th>\n",
              "      <th>Longitude</th>\n",
              "    </tr>\n",
              "  </thead>\n",
              "  <tbody>\n",
              "    <tr>\n",
              "      <th>558</th>\n",
              "      <td>1</td>\n",
              "      <td>Product1</td>\n",
              "      <td>13000</td>\n",
              "      <td>Visa</td>\n",
              "      <td>sandhya</td>\n",
              "      <td>Centennial</td>\n",
              "      <td>CO</td>\n",
              "      <td>United States</td>\n",
              "      <td>2/6/12 23:24</td>\n",
              "      <td>7/9/02 15:18</td>\n",
              "      <td>39.579170</td>\n",
              "      <td>-104.876390</td>\n",
              "    </tr>\n",
              "    <tr>\n",
              "      <th>544</th>\n",
              "      <td>1</td>\n",
              "      <td>Product3</td>\n",
              "      <td>7500</td>\n",
              "      <td>Visa</td>\n",
              "      <td>Karin</td>\n",
              "      <td>Olive Branch</td>\n",
              "      <td>MS</td>\n",
              "      <td>United States</td>\n",
              "      <td>12/9/01 17:41</td>\n",
              "      <td>6/9/02 18:48</td>\n",
              "      <td>34.961670</td>\n",
              "      <td>-89.829440</td>\n",
              "    </tr>\n",
              "    <tr>\n",
              "      <th>963</th>\n",
              "      <td>1</td>\n",
              "      <td>Product3</td>\n",
              "      <td>7500</td>\n",
              "      <td>Visa</td>\n",
              "      <td>Frank and Christelle</td>\n",
              "      <td>Valley Center</td>\n",
              "      <td>CA</td>\n",
              "      <td>United States</td>\n",
              "      <td>1/22/09 10:25</td>\n",
              "      <td>2/27/09 10:49</td>\n",
              "      <td>33.218330</td>\n",
              "      <td>-117.033330</td>\n",
              "    </tr>\n",
              "    <tr>\n",
              "      <th>434</th>\n",
              "      <td>1</td>\n",
              "      <td>Product3</td>\n",
              "      <td>7500</td>\n",
              "      <td>Mastercard</td>\n",
              "      <td>Diana</td>\n",
              "      <td>Campinas</td>\n",
              "      <td>Sao Paulo</td>\n",
              "      <td>Brazil</td>\n",
              "      <td>5/8/11 7:03</td>\n",
              "      <td>2/9/02 5:54</td>\n",
              "      <td>-22.900000</td>\n",
              "      <td>-47.083333</td>\n",
              "    </tr>\n",
              "    <tr>\n",
              "      <th>493</th>\n",
              "      <td>11</td>\n",
              "      <td>Product3</td>\n",
              "      <td>7500</td>\n",
              "      <td>Visa</td>\n",
              "      <td>Hans</td>\n",
              "      <td>Knoxville</td>\n",
              "      <td>TN</td>\n",
              "      <td>United States</td>\n",
              "      <td>8/28/08 6:20</td>\n",
              "      <td>4/9/02 12:17</td>\n",
              "      <td>35.960560</td>\n",
              "      <td>-83.920830</td>\n",
              "    </tr>\n",
              "    <tr>\n",
              "      <th>150</th>\n",
              "      <td>1</td>\n",
              "      <td>Product3</td>\n",
              "      <td>7500</td>\n",
              "      <td>Mastercard</td>\n",
              "      <td>Julianne</td>\n",
              "      <td>Navan</td>\n",
              "      <td>Meath</td>\n",
              "      <td>Ireland</td>\n",
              "      <td>1/18/09 12:20</td>\n",
              "      <td>1/18/09 12:20</td>\n",
              "      <td>53.652778</td>\n",
              "      <td>-6.681389</td>\n",
              "    </tr>\n",
              "    <tr>\n",
              "      <th>505</th>\n",
              "      <td>1</td>\n",
              "      <td>Product3</td>\n",
              "      <td>7500</td>\n",
              "      <td>Visa</td>\n",
              "      <td>scott</td>\n",
              "      <td>Rogers</td>\n",
              "      <td>AR</td>\n",
              "      <td>United States</td>\n",
              "      <td>1/25/09 15:55</td>\n",
              "      <td>5/9/02 0:20</td>\n",
              "      <td>36.331940</td>\n",
              "      <td>-94.118330</td>\n",
              "    </tr>\n",
              "    <tr>\n",
              "      <th>189</th>\n",
              "      <td>1</td>\n",
              "      <td>Product3</td>\n",
              "      <td>7500</td>\n",
              "      <td>Mastercard</td>\n",
              "      <td>Amanda</td>\n",
              "      <td>Shreveport</td>\n",
              "      <td>LA</td>\n",
              "      <td>United States</td>\n",
              "      <td>1/20/09 5:13</td>\n",
              "      <td>1/20/09 7:15</td>\n",
              "      <td>32.525000</td>\n",
              "      <td>-93.750000</td>\n",
              "    </tr>\n",
              "    <tr>\n",
              "      <th>511</th>\n",
              "      <td>1</td>\n",
              "      <td>Product3</td>\n",
              "      <td>7500</td>\n",
              "      <td>Visa</td>\n",
              "      <td>Michael</td>\n",
              "      <td>Pietermaritzburg</td>\n",
              "      <td>KwaZulu-Natal</td>\n",
              "      <td>South Africa</td>\n",
              "      <td>1/24/09 12:52</td>\n",
              "      <td>5/9/02 4:37</td>\n",
              "      <td>-29.616667</td>\n",
              "      <td>30.383333</td>\n",
              "    </tr>\n",
              "    <tr>\n",
              "      <th>912</th>\n",
              "      <td>1</td>\n",
              "      <td>Product3</td>\n",
              "      <td>7500</td>\n",
              "      <td>Mastercard</td>\n",
              "      <td>Anita</td>\n",
              "      <td>Fresno</td>\n",
              "      <td>TX</td>\n",
              "      <td>United States</td>\n",
              "      <td>1/24/09 9:24</td>\n",
              "      <td>2/25/09 14:22</td>\n",
              "      <td>29.538610</td>\n",
              "      <td>-95.447220</td>\n",
              "    </tr>\n",
              "  </tbody>\n",
              "</table>\n",
              "</div>"
            ],
            "text/plain": [
              "     Transaction_month   Product  Price  ...     Last_Login   Latitude   Longitude\n",
              "558                  1  Product1  13000  ...   7/9/02 15:18  39.579170 -104.876390\n",
              "544                  1  Product3   7500  ...   6/9/02 18:48  34.961670  -89.829440\n",
              "963                  1  Product3   7500  ...  2/27/09 10:49  33.218330 -117.033330\n",
              "434                  1  Product3   7500  ...    2/9/02 5:54 -22.900000  -47.083333\n",
              "493                 11  Product3   7500  ...   4/9/02 12:17  35.960560  -83.920830\n",
              "150                  1  Product3   7500  ...  1/18/09 12:20  53.652778   -6.681389\n",
              "505                  1  Product3   7500  ...    5/9/02 0:20  36.331940  -94.118330\n",
              "189                  1  Product3   7500  ...   1/20/09 7:15  32.525000  -93.750000\n",
              "511                  1  Product3   7500  ...    5/9/02 4:37 -29.616667   30.383333\n",
              "912                  1  Product3   7500  ...  2/25/09 14:22  29.538610  -95.447220\n",
              "\n",
              "[10 rows x 12 columns]"
            ]
          },
          "metadata": {},
          "execution_count": 18
        }
      ]
    },
    {
      "cell_type": "code",
      "metadata": {
        "id": "hxqHfohJHZd0",
        "colab": {
          "base_uri": "https://localhost:8080/"
        },
        "outputId": "505a9229-12e1-47bd-ad6f-1080cd7d3ec4"
      },
      "source": [
        "#Find Unique Countries\n",
        "y=df['Country'].unique()\n",
        "y"
      ],
      "execution_count": 19,
      "outputs": [
        {
          "output_type": "execute_result",
          "data": {
            "text/plain": [
              "array(['United Kingdom', 'United States', 'Australia', 'Israel', 'France',\n",
              "       'Netherlands', 'Ireland', 'Canada', 'India', 'South Africa',\n",
              "       'Finland', 'Switzerland', 'Denmark', 'Belgium', 'Sweden', 'Norway',\n",
              "       'Luxembourg', 'Italy', 'Germany', 'Moldova', 'Spain',\n",
              "       'United Arab Emirates', 'Bahrain', 'Turkey', 'Kuwait', 'Malta',\n",
              "       'Hungary', 'Austria', 'Jersey', 'Malaysia', 'Iceland',\n",
              "       'South Korea', 'Brazil', 'New Zealand', 'Russia', 'Monaco',\n",
              "       'Hong Kong', 'Thailand', 'Bulgaria', 'Latvia', 'Poland',\n",
              "       'Philippines', 'Argentina', 'The Bahamas', 'Japan',\n",
              "       'Czech Republic', 'Cayman Isls', 'Ukraine', 'Dominican Republic',\n",
              "       'China', 'Greece', 'Costa Rica', 'Bermuda', 'Romania', 'Guatemala',\n",
              "       'Mauritius'], dtype=object)"
            ]
          },
          "metadata": {},
          "execution_count": 19
        }
      ]
    },
    {
      "cell_type": "code",
      "metadata": {
        "id": "HwCg6mjiUP89"
      },
      "source": [
        "#Make Array of Countries Total Prices\n",
        "def best_Country(country):\n",
        "  s=[]\n",
        "  for x in range(len(country)):  \n",
        "    dfG = df[['Price','Country']]\n",
        "    dfG = dfG.where(df['Country'] == country[x])\n",
        "    dfG = dfG.dropna().reset_index()\n",
        "    s.append(np.sum(dfG['Price']))\n",
        "  return s"
      ],
      "execution_count": 20,
      "outputs": []
    },
    {
      "cell_type": "code",
      "metadata": {
        "id": "973A3Gb5Uiwt",
        "colab": {
          "base_uri": "https://localhost:8080/"
        },
        "outputId": "22f7ad8f-735a-48f6-a37d-25ac71f67f6f"
      },
      "source": [
        "# Match Lengths/ Call Function\n",
        "series = best_Country(y)\n",
        "len(series)\n",
        "len(y)"
      ],
      "execution_count": 21,
      "outputs": [
        {
          "output_type": "execute_result",
          "data": {
            "text/plain": [
              "56"
            ]
          },
          "metadata": {},
          "execution_count": 21
        }
      ]
    },
    {
      "cell_type": "code",
      "metadata": {
        "id": "KnhkX_i7Orai",
        "colab": {
          "base_uri": "https://localhost:8080/",
          "height": 388
        },
        "outputId": "94540fd6-5762-4728-d3d9-c7670910e45c"
      },
      "source": [
        "#Make Table of Prices and Unique Countries\n",
        "t = Table().with_columns(\"Total Price\", series,\"Country\", y)\n",
        "t"
      ],
      "execution_count": 22,
      "outputs": [
        {
          "output_type": "execute_result",
          "data": {
            "text/html": [
              "<table border=\"1\" class=\"dataframe\">\n",
              "    <thead>\n",
              "        <tr>\n",
              "            <th>Total Price</th> <th>Country</th>\n",
              "        </tr>\n",
              "    </thead>\n",
              "    <tbody>\n",
              "        <tr>\n",
              "            <td>144000     </td> <td>United Kingdom</td>\n",
              "        </tr>\n",
              "        <tr>\n",
              "            <td>750000     </td> <td>United States </td>\n",
              "        </tr>\n",
              "        <tr>\n",
              "            <td>64800      </td> <td>Australia     </td>\n",
              "        </tr>\n",
              "        <tr>\n",
              "            <td>1200       </td> <td>Israel        </td>\n",
              "        </tr>\n",
              "        <tr>\n",
              "            <td>53100      </td> <td>France        </td>\n",
              "        </tr>\n",
              "        <tr>\n",
              "            <td>44700      </td> <td>Netherlands   </td>\n",
              "        </tr>\n",
              "        <tr>\n",
              "            <td>69900      </td> <td>Ireland       </td>\n",
              "        </tr>\n",
              "        <tr>\n",
              "            <td>124800     </td> <td>Canada        </td>\n",
              "        </tr>\n",
              "        <tr>\n",
              "            <td>2400       </td> <td>India         </td>\n",
              "        </tr>\n",
              "        <tr>\n",
              "            <td>12300      </td> <td>South Africa  </td>\n",
              "        </tr>\n",
              "    </tbody>\n",
              "</table>\n",
              "<p>... (46 rows omitted)</p>"
            ],
            "text/plain": [
              "Total Price | Country\n",
              "144000      | United Kingdom\n",
              "750000      | United States\n",
              "64800       | Australia\n",
              "1200        | Israel\n",
              "53100       | France\n",
              "44700       | Netherlands\n",
              "69900       | Ireland\n",
              "124800      | Canada\n",
              "2400        | India\n",
              "12300       | South Africa\n",
              "... (46 rows omitted)"
            ]
          },
          "metadata": {},
          "execution_count": 22
        }
      ]
    },
    {
      "cell_type": "code",
      "metadata": {
        "id": "20d2bzXcYmwF",
        "colab": {
          "base_uri": "https://localhost:8080/",
          "height": 388
        },
        "outputId": "4f8354e7-ee46-4377-e820-ee8964439b74"
      },
      "source": [
        "t= t.sort(\"Total Price\", descending=True)\n",
        "t"
      ],
      "execution_count": 23,
      "outputs": [
        {
          "output_type": "execute_result",
          "data": {
            "text/html": [
              "<table border=\"1\" class=\"dataframe\">\n",
              "    <thead>\n",
              "        <tr>\n",
              "            <th>Total Price</th> <th>Country</th>\n",
              "        </tr>\n",
              "    </thead>\n",
              "    <tbody>\n",
              "        <tr>\n",
              "            <td>750000     </td> <td>United States </td>\n",
              "        </tr>\n",
              "        <tr>\n",
              "            <td>144000     </td> <td>United Kingdom</td>\n",
              "        </tr>\n",
              "        <tr>\n",
              "            <td>124800     </td> <td>Canada        </td>\n",
              "        </tr>\n",
              "        <tr>\n",
              "            <td>76800      </td> <td>Switzerland   </td>\n",
              "        </tr>\n",
              "        <tr>\n",
              "            <td>69900      </td> <td>Ireland       </td>\n",
              "        </tr>\n",
              "        <tr>\n",
              "            <td>64800      </td> <td>Australia     </td>\n",
              "        </tr>\n",
              "        <tr>\n",
              "            <td>53100      </td> <td>France        </td>\n",
              "        </tr>\n",
              "        <tr>\n",
              "            <td>44700      </td> <td>Netherlands   </td>\n",
              "        </tr>\n",
              "        <tr>\n",
              "            <td>42000      </td> <td>Germany       </td>\n",
              "        </tr>\n",
              "        <tr>\n",
              "            <td>37800      </td> <td>Italy         </td>\n",
              "        </tr>\n",
              "    </tbody>\n",
              "</table>\n",
              "<p>... (46 rows omitted)</p>"
            ],
            "text/plain": [
              "Total Price | Country\n",
              "750000      | United States\n",
              "144000      | United Kingdom\n",
              "124800      | Canada\n",
              "76800       | Switzerland\n",
              "69900       | Ireland\n",
              "64800       | Australia\n",
              "53100       | France\n",
              "44700       | Netherlands\n",
              "42000       | Germany\n",
              "37800       | Italy\n",
              "... (46 rows omitted)"
            ]
          },
          "metadata": {},
          "execution_count": 23
        }
      ]
    },
    {
      "cell_type": "code",
      "metadata": {
        "id": "H30826H7cXjC",
        "colab": {
          "base_uri": "https://localhost:8080/"
        },
        "outputId": "496578f5-d8e3-4c58-b5fa-75cf44f19308"
      },
      "source": [
        "array = t.column(\"Total Price\")\n",
        "array[0 : 10]"
      ],
      "execution_count": 24,
      "outputs": [
        {
          "output_type": "execute_result",
          "data": {
            "text/plain": [
              "array([750000., 144000., 124800.,  76800.,  69900.,  64800.,  53100.,\n",
              "        44700.,  42000.,  37800.])"
            ]
          },
          "metadata": {},
          "execution_count": 24
        }
      ]
    },
    {
      "cell_type": "code",
      "metadata": {
        "id": "VesfEbLPTPsl",
        "colab": {
          "base_uri": "https://localhost:8080/",
          "height": 363
        },
        "outputId": "35eb1db5-ff15-4c85-ba30-9d1076cc7755"
      },
      "source": [
        "#Histogram Top 10 Countries\n",
        "plt.xlabel('Total Price')\n",
        "plt.ylabel('Country Frequency')\n",
        "plt.title('Frequency Vs Price')\n",
        "plt.hist(array[0 : 10],)"
      ],
      "execution_count": 25,
      "outputs": [
        {
          "output_type": "execute_result",
          "data": {
            "text/plain": [
              "(array([7., 2., 0., 0., 0., 0., 0., 0., 0., 1.]),\n",
              " array([ 37800., 109020., 180240., 251460., 322680., 393900., 465120.,\n",
              "        536340., 607560., 678780., 750000.]),\n",
              " <a list of 10 Patch objects>)"
            ]
          },
          "metadata": {},
          "execution_count": 25
        },
        {
          "output_type": "display_data",
          "data": {
            "image/png": "[encoded data removed]",
            "text/plain": [
              "<Figure size 432x288 with 1 Axes>"
            ]
          },
          "metadata": {
            "needs_background": "light"
          }
        }
      ]
    },
    {
      "cell_type": "code",
      "metadata": {
        "id": "qtaFc8U-bgiv",
        "colab": {
          "base_uri": "https://localhost:8080/"
        },
        "outputId": "fbb62a2e-6f70-44c1-eb96-40ee0486a2f3"
      },
      "source": [
        "z = df['Payment_Type'].unique()\n",
        "z"
      ],
      "execution_count": 26,
      "outputs": [
        {
          "output_type": "execute_result",
          "data": {
            "text/plain": [
              "array(['Mastercard', 'Visa', 'Diners', 'Amex'], dtype=object)"
            ]
          },
          "metadata": {},
          "execution_count": 26
        }
      ]
    },
    {
      "cell_type": "code",
      "metadata": {
        "id": "CBE6aL8DgyA_",
        "colab": {
          "base_uri": "https://localhost:8080/",
          "height": 265
        },
        "outputId": "186b53c8-ed47-44f0-a9e2-12e84f42ea92"
      },
      "source": [
        "# Bar Graph Product Frequency\n",
        "dfP = df[['Product','Payment_Type']]\n",
        "x = len(dfP.where(dfP['Product'] == 'Product1').dropna().reset_index())\n",
        "y = np.array(len(z))\n",
        "plt.bar(1,x)\n",
        "x = len(dfP.where(dfP['Product'] == 'Product2').dropna().reset_index())\n",
        "plt.bar(2,x)\n",
        "x = len(dfP.where(dfP['Product'] == 'Product3').dropna().reset_index())\n",
        "plt.bar(3,x)\n",
        "plt.legend(['Product 1', 'Product 2', 'Product 3'])\n",
        "plt.show()"
      ],
      "execution_count": 27,
      "outputs": [
        {
          "output_type": "display_data",
          "data": {
            "image/png": "[encoded data removed]",
            "text/plain": [
              "<Figure size 432x288 with 1 Axes>"
            ]
          },
          "metadata": {
            "needs_background": "light"
          }
        }
      ]
    },
    {
      "cell_type": "code",
      "metadata": {
        "colab": {
          "base_uri": "https://localhost:8080/",
          "height": 350
        },
        "id": "-ah4L_HST2Qi",
        "outputId": "5c420568-9525-49c1-c312-c03dad6e0add"
      },
      "source": [
        "# Pie Chart Product Frequency Ratio\n",
        "x = len(dfP.where(dfP['Product'] == 'Product1').dropna())/len(dfP['Product'])\n",
        "y = len(dfP.where(dfP['Product'] == 'Product2').dropna())/len(dfP['Product'])\n",
        "z = len(dfP.where(dfP['Product'] == 'Product3').dropna())/len(dfP['Product'])\n",
        "series = ['Product 1', 'Product 2', 'Product 3']\n",
        "array = np.array([x,y,z])\n",
        "plt.pie(array, labels=series)"
      ],
      "execution_count": 28,
      "outputs": [
        {
          "output_type": "execute_result",
          "data": {
            "text/plain": [
              "([<matplotlib.patches.Wedge at 0x7fae0f5af4d0>,\n",
              "  <matplotlib.patches.Wedge at 0x7fae0f5af810>,\n",
              "  <matplotlib.patches.Wedge at 0x7fae0f5af8d0>],\n",
              " [Text(-0.9780553923461719, 0.5033961158993739, 'Product 1'),\n",
              "  Text(0.9532046408682179, -0.5489999204255789, 'Product 2'),\n",
              "  Text(1.0987739750886825, -0.05192062853833344, 'Product 3')])"
            ]
          },
          "metadata": {},
          "execution_count": 28
        },
        {
          "output_type": "display_data",
          "data": {
            "image/png": "[encoded data removed]",
            "text/plain": [
              "<Figure size 432x288 with 1 Axes>"
            ]
          },
          "metadata": {}
        }
      ]
    },
    {
      "cell_type": "code",
      "metadata": {
        "id": "Yjoht1EjUz5G",
        "colab": {
          "base_uri": "https://localhost:8080/",
          "height": 419
        },
        "outputId": "96d2b021-bdb3-4c2b-9a4d-862feebed0e3"
      },
      "source": [
        "# Make DataFrames By Product\n",
        "dfP1=dfP.where(dfP['Product'] == 'Product1').dropna().reset_index()\n",
        "dfP2=dfP.where(dfP['Product'] == 'Product2').dropna().reset_index()\n",
        "dfP3=dfP.where(dfP['Product'] == 'Product3').dropna().reset_index()\n",
        "dfP1"
      ],
      "execution_count": 29,
      "outputs": [
        {
          "output_type": "execute_result",
          "data": {
            "text/html": [
              "<div>\n",
              "<style scoped>\n",
              "    .dataframe tbody tr th:only-of-type {\n",
              "        vertical-align: middle;\n",
              "    }\n",
              "\n",
              "    .dataframe tbody tr th {\n",
              "        vertical-align: top;\n",
              "    }\n",
              "\n",
              "    .dataframe thead th {\n",
              "        text-align: right;\n",
              "    }\n",
              "</style>\n",
              "<table border=\"1\" class=\"dataframe\">\n",
              "  <thead>\n",
              "    <tr style=\"text-align: right;\">\n",
              "      <th></th>\n",
              "      <th>index</th>\n",
              "      <th>Product</th>\n",
              "      <th>Payment_Type</th>\n",
              "    </tr>\n",
              "  </thead>\n",
              "  <tbody>\n",
              "    <tr>\n",
              "      <th>0</th>\n",
              "      <td>0</td>\n",
              "      <td>Product1</td>\n",
              "      <td>Mastercard</td>\n",
              "    </tr>\n",
              "    <tr>\n",
              "      <th>1</th>\n",
              "      <td>1</td>\n",
              "      <td>Product1</td>\n",
              "      <td>Visa</td>\n",
              "    </tr>\n",
              "    <tr>\n",
              "      <th>2</th>\n",
              "      <td>2</td>\n",
              "      <td>Product1</td>\n",
              "      <td>Mastercard</td>\n",
              "    </tr>\n",
              "    <tr>\n",
              "      <th>3</th>\n",
              "      <td>3</td>\n",
              "      <td>Product1</td>\n",
              "      <td>Visa</td>\n",
              "    </tr>\n",
              "    <tr>\n",
              "      <th>4</th>\n",
              "      <td>5</td>\n",
              "      <td>Product1</td>\n",
              "      <td>Visa</td>\n",
              "    </tr>\n",
              "    <tr>\n",
              "      <th>...</th>\n",
              "      <td>...</td>\n",
              "      <td>...</td>\n",
              "      <td>...</td>\n",
              "    </tr>\n",
              "    <tr>\n",
              "      <th>842</th>\n",
              "      <td>990</td>\n",
              "      <td>Product1</td>\n",
              "      <td>Visa</td>\n",
              "    </tr>\n",
              "    <tr>\n",
              "      <th>843</th>\n",
              "      <td>991</td>\n",
              "      <td>Product1</td>\n",
              "      <td>Mastercard</td>\n",
              "    </tr>\n",
              "    <tr>\n",
              "      <th>844</th>\n",
              "      <td>993</td>\n",
              "      <td>Product1</td>\n",
              "      <td>Visa</td>\n",
              "    </tr>\n",
              "    <tr>\n",
              "      <th>845</th>\n",
              "      <td>996</td>\n",
              "      <td>Product1</td>\n",
              "      <td>Diners</td>\n",
              "    </tr>\n",
              "    <tr>\n",
              "      <th>846</th>\n",
              "      <td>997</td>\n",
              "      <td>Product1</td>\n",
              "      <td>Visa</td>\n",
              "    </tr>\n",
              "  </tbody>\n",
              "</table>\n",
              "<p>847 rows × 3 columns</p>\n",
              "</div>"
            ],
            "text/plain": [
              "     index   Product Payment_Type\n",
              "0        0  Product1   Mastercard\n",
              "1        1  Product1         Visa\n",
              "2        2  Product1   Mastercard\n",
              "3        3  Product1         Visa\n",
              "4        5  Product1         Visa\n",
              "..     ...       ...          ...\n",
              "842    990  Product1         Visa\n",
              "843    991  Product1   Mastercard\n",
              "844    993  Product1         Visa\n",
              "845    996  Product1       Diners\n",
              "846    997  Product1         Visa\n",
              "\n",
              "[847 rows x 3 columns]"
            ]
          },
          "metadata": {},
          "execution_count": 29
        }
      ]
    },
    {
      "cell_type": "code",
      "metadata": {
        "id": "zy0LhMEYWcox"
      },
      "source": [
        "#Plots Data Based On Products\n",
        "def Payment_Type(products):\n",
        "  fig, axs = plt.subplots(1, 3)\n",
        "  for x in range(len(products)):\n",
        "    dfPP= dfP.where(dfP['Product'] == products[x]).dropna().reset_index()\n",
        "    series = dfPP['Payment_Type'].unique()\n",
        "    b = []\n",
        "    label = []\n",
        "    for n in range(len(series)):\n",
        "      label.append(series[n])\n",
        "      b.append(len(dfPP.where(dfPP['Payment_Type'] == series[n]).dropna().reset_index()))\n",
        "    \n",
        "    axs[x].pie(b,labels=label)\n",
        "    axs[x].set_title(products[x])"
      ],
      "execution_count": 30,
      "outputs": []
    },
    {
      "cell_type": "code",
      "metadata": {
        "colab": {
          "base_uri": "https://localhost:8080/",
          "height": 145
        },
        "id": "MBqRPxSNRey4",
        "outputId": "b822d861-8ea5-4aa7-c111-0396fd25638a"
      },
      "source": [
        "products = dfP['Product'].unique()\n",
        "Payment_Type(products)\n"
      ],
      "execution_count": 31,
      "outputs": [
        {
          "output_type": "display_data",
          "data": {
            "image/png": "[encoded data removed]",
            "text/plain": [
              "<Figure size 432x288 with 3 Axes>"
            ]
          },
          "metadata": {}
        }
      ]
    },
    {
      "cell_type": "code",
      "metadata": {
        "id": "ox6jp1afgeDk",
        "colab": {
          "base_uri": "https://localhost:8080/",
          "height": 265
        },
        "outputId": "7f751b16-1bf2-48df-cfe1-44ac8ff4a899"
      },
      "source": [
        "# Bar Graph Payment Distribution\n",
        "series = df['Payment_Type'].unique()\n",
        "a = []\n",
        "b = []\n",
        "for x in range(len(series)):\n",
        "  df_Payment = df[['Payment_Type', 'Price']]\n",
        "  df_Payment = df_Payment.where(df['Payment_Type'] == series[x]).dropna().reset_index()\n",
        "  a.append(len(df_Payment.where(df['Payment_Type'] == series[x]).dropna().reset_index()))\n",
        "  b.append(np.sum(df_Payment['Price']))\n",
        "for x in range(len(b)):\n",
        "  plt.bar(x,b[x])\n",
        "  plt.legend(['Mastercard', 'Visa', 'Diners', 'Amex'])"
      ],
      "execution_count": 32,
      "outputs": [
        {
          "output_type": "display_data",
          "data": {
            "image/png": "[encoded data removed]",
            "text/plain": [
              "<Figure size 432x288 with 1 Axes>"
            ]
          },
          "metadata": {
            "needs_background": "light"
          }
        }
      ]
    },
    {
      "cell_type": "code",
      "metadata": {
        "id": "B8WtuX2if3PA",
        "colab": {
          "base_uri": "https://localhost:8080/"
        },
        "outputId": "7558afca-60ed-49a7-9017-71c00e21aadb"
      },
      "source": [
        "df_C =df.where(df['Country'] == series[x]).dropna().reset_index()\n",
        "df_C = df_C.sort_values('Price')\n",
        "df['Price'].unique()"
      ],
      "execution_count": 33,
      "outputs": [
        {
          "output_type": "execute_result",
          "data": {
            "text/plain": [
              "array([ 1200,  3600,  2100,  7500,   800,  1250,   250,  1800, 13000])"
            ]
          },
          "metadata": {},
          "execution_count": 33
        }
      ]
    },
    {
      "cell_type": "code",
      "metadata": {
        "colab": {
          "base_uri": "https://localhost:8080/",
          "height": 49
        },
        "id": "AkWH31cnKNIZ",
        "outputId": "8ccdb341-0a89-4c58-ae06-d83beb071148"
      },
      "source": [
        "\n",
        "df_C =df.where(df['Country'] == 'Mastercard').dropna().reset_index()\n",
        "df_C = df_C.sort_values('Price')\n",
        "s = df_C['Price']\n",
        "s = s.astype(int)\n",
        "df_C"
      ],
      "execution_count": 34,
      "outputs": [
        {
          "output_type": "execute_result",
          "data": {
            "text/html": [
              "<div>\n",
              "<style scoped>\n",
              "    .dataframe tbody tr th:only-of-type {\n",
              "        vertical-align: middle;\n",
              "    }\n",
              "\n",
              "    .dataframe tbody tr th {\n",
              "        vertical-align: top;\n",
              "    }\n",
              "\n",
              "    .dataframe thead th {\n",
              "        text-align: right;\n",
              "    }\n",
              "</style>\n",
              "<table border=\"1\" class=\"dataframe\">\n",
              "  <thead>\n",
              "    <tr style=\"text-align: right;\">\n",
              "      <th></th>\n",
              "      <th>index</th>\n",
              "      <th>Transaction_month</th>\n",
              "      <th>Product</th>\n",
              "      <th>Price</th>\n",
              "      <th>Payment_Type</th>\n",
              "      <th>Name</th>\n",
              "      <th>City</th>\n",
              "      <th>State</th>\n",
              "      <th>Country</th>\n",
              "      <th>Account_Created</th>\n",
              "      <th>Last_Login</th>\n",
              "      <th>Latitude</th>\n",
              "      <th>Longitude</th>\n",
              "    </tr>\n",
              "  </thead>\n",
              "  <tbody>\n",
              "  </tbody>\n",
              "</table>\n",
              "</div>"
            ],
            "text/plain": [
              "Empty DataFrame\n",
              "Columns: [index, Transaction_month, Product, Price, Payment_Type, Name, City, State, Country, Account_Created, Last_Login, Latitude, Longitude]\n",
              "Index: []"
            ]
          },
          "metadata": {},
          "execution_count": 34
        }
      ]
    },
    {
      "cell_type": "code",
      "metadata": {
        "id": "MP1YsveofBEn",
        "colab": {
          "base_uri": "https://localhost:8080/",
          "height": 1000
        },
        "outputId": "aabb19ed-3096-4d90-c523-549bc2ec762c"
      },
      "source": [
        "#Find Top 25% Values\n",
        "df_Country = df[['Country', 'Price']]\n",
        "l = []\n",
        "#Put top 25% in list\n",
        "for x in range(len(series)):\n",
        "  l.append(len(df_Country.where(df_Country['Country'] == series[x]).dropna().reset_index()))\n",
        "l = np.divide(l,4)\n",
        "l = np.round(l,decimals=0)\n",
        "l=l.astype(int)\n",
        "for x in range(len(l)):\n",
        "  if l[x] == 0 : \n",
        "    l[x] = l[x] + 1\n",
        "p = {\"Country\": series, \"Frequency\" : l }\n",
        "\n",
        "\n",
        "df_Country = df[['Country', 'Price']]\n",
        "series = df_Country['Country'].unique()\n",
        "freq_df = pd.DataFrame(p, columns=[\"Country\",\"Frequency\"])\n",
        "#Make Price List for each country   \n",
        "for x in range(len(series)):\n",
        "  df_C =df[['Country', 'Price']].where(df['Country'] == series[x]).dropna().reset_index()\n",
        "  df_C = df_C.sort_values('Price', ascending=False).reset_index()\n",
        "  s = df_C['Price']\n",
        "  s = s.astype(int)\n",
        "  \n",
        "  #Plot Line/Points\n",
        "  #less than 5 only has 1 points in top 25%\n",
        "  if len(s) < 5:\n",
        "    fmt = 'or'\n",
        "    ran = range(0,l[x])\n",
        "\n",
        "    fig, axs = plt.subplots()\n",
        "    axs.plot(ran,s[0:l[x]],'o')\n",
        "    axs.set_title(series[x])\n",
        "\n",
        "  if len(s) > 5:\n",
        "    ran = range(0,l[x])\n",
        "\n",
        "    fig, axs = plt.subplots()\n",
        "    axs.plot(ran,s[0:l[x]])\n",
        "    axs.set_title(series[x])\n",
        "\n",
        "\n",
        "  \n",
        "   "
      ],
      "execution_count": 80,
      "outputs": [
        {
          "output_type": "stream",
          "name": "stderr",
          "text": [
            "/usr/local/lib/python3.7/dist-packages/ipykernel_launcher.py:35: RuntimeWarning: More than 20 figures have been opened. Figures created through the pyplot interface (`matplotlib.pyplot.figure`) are retained until explicitly closed and may consume too much memory. (To control this warning, see the rcParam `figure.max_open_warning`).\n",
            "/usr/local/lib/python3.7/dist-packages/ipykernel_launcher.py:28: RuntimeWarning: More than 20 figures have been opened. Figures created through the pyplot interface (`matplotlib.pyplot.figure`) are retained until explicitly closed and may consume too much memory. (To control this warning, see the rcParam `figure.max_open_warning`).\n",
            "/usr/local/lib/python3.7/dist-packages/ipykernel_launcher.py:35: RuntimeWarning: More than 20 figures have been opened. Figures created through the pyplot interface (`matplotlib.pyplot.figure`) are retained until explicitly closed and may consume too much memory. (To control this warning, see the rcParam `figure.max_open_warning`).\n",
            "/usr/local/lib/python3.7/dist-packages/ipykernel_launcher.py:28: RuntimeWarning: More than 20 figures have been opened. Figures created through the pyplot interface (`matplotlib.pyplot.figure`) are retained until explicitly closed and may consume too much memory. (To control this warning, see the rcParam `figure.max_open_warning`).\n",
            "/usr/local/lib/python3.7/dist-packages/ipykernel_launcher.py:28: RuntimeWarning: More than 20 figures have been opened. Figures created through the pyplot interface (`matplotlib.pyplot.figure`) are retained until explicitly closed and may consume too much memory. (To control this warning, see the rcParam `figure.max_open_warning`).\n",
            "/usr/local/lib/python3.7/dist-packages/ipykernel_launcher.py:28: RuntimeWarning: More than 20 figures have been opened. Figures created through the pyplot interface (`matplotlib.pyplot.figure`) are retained until explicitly closed and may consume too much memory. (To control this warning, see the rcParam `figure.max_open_warning`).\n",
            "/usr/local/lib/python3.7/dist-packages/ipykernel_launcher.py:35: RuntimeWarning: More than 20 figures have been opened. Figures created through the pyplot interface (`matplotlib.pyplot.figure`) are retained until explicitly closed and may consume too much memory. (To control this warning, see the rcParam `figure.max_open_warning`).\n",
            "/usr/local/lib/python3.7/dist-packages/ipykernel_launcher.py:28: RuntimeWarning: More than 20 figures have been opened. Figures created through the pyplot interface (`matplotlib.pyplot.figure`) are retained until explicitly closed and may consume too much memory. (To control this warning, see the rcParam `figure.max_open_warning`).\n",
            "/usr/local/lib/python3.7/dist-packages/ipykernel_launcher.py:28: RuntimeWarning: More than 20 figures have been opened. Figures created through the pyplot interface (`matplotlib.pyplot.figure`) are retained until explicitly closed and may consume too much memory. (To control this warning, see the rcParam `figure.max_open_warning`).\n",
            "/usr/local/lib/python3.7/dist-packages/ipykernel_launcher.py:28: RuntimeWarning: More than 20 figures have been opened. Figures created through the pyplot interface (`matplotlib.pyplot.figure`) are retained until explicitly closed and may consume too much memory. (To control this warning, see the rcParam `figure.max_open_warning`).\n",
            "/usr/local/lib/python3.7/dist-packages/ipykernel_launcher.py:28: RuntimeWarning: More than 20 figures have been opened. Figures created through the pyplot interface (`matplotlib.pyplot.figure`) are retained until explicitly closed and may consume too much memory. (To control this warning, see the rcParam `figure.max_open_warning`).\n",
            "/usr/local/lib/python3.7/dist-packages/ipykernel_launcher.py:35: RuntimeWarning: More than 20 figures have been opened. Figures created through the pyplot interface (`matplotlib.pyplot.figure`) are retained until explicitly closed and may consume too much memory. (To control this warning, see the rcParam `figure.max_open_warning`).\n",
            "/usr/local/lib/python3.7/dist-packages/ipykernel_launcher.py:28: RuntimeWarning: More than 20 figures have been opened. Figures created through the pyplot interface (`matplotlib.pyplot.figure`) are retained until explicitly closed and may consume too much memory. (To control this warning, see the rcParam `figure.max_open_warning`).\n",
            "/usr/local/lib/python3.7/dist-packages/ipykernel_launcher.py:28: RuntimeWarning: More than 20 figures have been opened. Figures created through the pyplot interface (`matplotlib.pyplot.figure`) are retained until explicitly closed and may consume too much memory. (To control this warning, see the rcParam `figure.max_open_warning`).\n",
            "/usr/local/lib/python3.7/dist-packages/ipykernel_launcher.py:28: RuntimeWarning: More than 20 figures have been opened. Figures created through the pyplot interface (`matplotlib.pyplot.figure`) are retained until explicitly closed and may consume too much memory. (To control this warning, see the rcParam `figure.max_open_warning`).\n",
            "/usr/local/lib/python3.7/dist-packages/ipykernel_launcher.py:28: RuntimeWarning: More than 20 figures have been opened. Figures created through the pyplot interface (`matplotlib.pyplot.figure`) are retained until explicitly closed and may consume too much memory. (To control this warning, see the rcParam `figure.max_open_warning`).\n",
            "/usr/local/lib/python3.7/dist-packages/ipykernel_launcher.py:28: RuntimeWarning: More than 20 figures have been opened. Figures created through the pyplot interface (`matplotlib.pyplot.figure`) are retained until explicitly closed and may consume too much memory. (To control this warning, see the rcParam `figure.max_open_warning`).\n",
            "/usr/local/lib/python3.7/dist-packages/ipykernel_launcher.py:28: RuntimeWarning: More than 20 figures have been opened. Figures created through the pyplot interface (`matplotlib.pyplot.figure`) are retained until explicitly closed and may consume too much memory. (To control this warning, see the rcParam `figure.max_open_warning`).\n",
            "/usr/local/lib/python3.7/dist-packages/ipykernel_launcher.py:28: RuntimeWarning: More than 20 figures have been opened. Figures created through the pyplot interface (`matplotlib.pyplot.figure`) are retained until explicitly closed and may consume too much memory. (To control this warning, see the rcParam `figure.max_open_warning`).\n",
            "/usr/local/lib/python3.7/dist-packages/ipykernel_launcher.py:28: RuntimeWarning: More than 20 figures have been opened. Figures created through the pyplot interface (`matplotlib.pyplot.figure`) are retained until explicitly closed and may consume too much memory. (To control this warning, see the rcParam `figure.max_open_warning`).\n",
            "/usr/local/lib/python3.7/dist-packages/ipykernel_launcher.py:28: RuntimeWarning: More than 20 figures have been opened. Figures created through the pyplot interface (`matplotlib.pyplot.figure`) are retained until explicitly closed and may consume too much memory. (To control this warning, see the rcParam `figure.max_open_warning`).\n",
            "/usr/local/lib/python3.7/dist-packages/ipykernel_launcher.py:28: RuntimeWarning: More than 20 figures have been opened. Figures created through the pyplot interface (`matplotlib.pyplot.figure`) are retained until explicitly closed and may consume too much memory. (To control this warning, see the rcParam `figure.max_open_warning`).\n",
            "/usr/local/lib/python3.7/dist-packages/ipykernel_launcher.py:28: RuntimeWarning: More than 20 figures have been opened. Figures created through the pyplot interface (`matplotlib.pyplot.figure`) are retained until explicitly closed and may consume too much memory. (To control this warning, see the rcParam `figure.max_open_warning`).\n",
            "/usr/local/lib/python3.7/dist-packages/ipykernel_launcher.py:28: RuntimeWarning: More than 20 figures have been opened. Figures created through the pyplot interface (`matplotlib.pyplot.figure`) are retained until explicitly closed and may consume too much memory. (To control this warning, see the rcParam `figure.max_open_warning`).\n",
            "/usr/local/lib/python3.7/dist-packages/ipykernel_launcher.py:28: RuntimeWarning: More than 20 figures have been opened. Figures created through the pyplot interface (`matplotlib.pyplot.figure`) are retained until explicitly closed and may consume too much memory. (To control this warning, see the rcParam `figure.max_open_warning`).\n",
            "/usr/local/lib/python3.7/dist-packages/ipykernel_launcher.py:28: RuntimeWarning: More than 20 figures have been opened. Figures created through the pyplot interface (`matplotlib.pyplot.figure`) are retained until explicitly closed and may consume too much memory. (To control this warning, see the rcParam `figure.max_open_warning`).\n",
            "/usr/local/lib/python3.7/dist-packages/ipykernel_launcher.py:28: RuntimeWarning: More than 20 figures have been opened. Figures created through the pyplot interface (`matplotlib.pyplot.figure`) are retained until explicitly closed and may consume too much memory. (To control this warning, see the rcParam `figure.max_open_warning`).\n",
            "/usr/local/lib/python3.7/dist-packages/ipykernel_launcher.py:28: RuntimeWarning: More than 20 figures have been opened. Figures created through the pyplot interface (`matplotlib.pyplot.figure`) are retained until explicitly closed and may consume too much memory. (To control this warning, see the rcParam `figure.max_open_warning`).\n",
            "/usr/local/lib/python3.7/dist-packages/ipykernel_launcher.py:28: RuntimeWarning: More than 20 figures have been opened. Figures created through the pyplot interface (`matplotlib.pyplot.figure`) are retained until explicitly closed and may consume too much memory. (To control this warning, see the rcParam `figure.max_open_warning`).\n",
            "/usr/local/lib/python3.7/dist-packages/ipykernel_launcher.py:28: RuntimeWarning: More than 20 figures have been opened. Figures created through the pyplot interface (`matplotlib.pyplot.figure`) are retained until explicitly closed and may consume too much memory. (To control this warning, see the rcParam `figure.max_open_warning`).\n",
            "/usr/local/lib/python3.7/dist-packages/ipykernel_launcher.py:28: RuntimeWarning: More than 20 figures have been opened. Figures created through the pyplot interface (`matplotlib.pyplot.figure`) are retained until explicitly closed and may consume too much memory. (To control this warning, see the rcParam `figure.max_open_warning`).\n",
            "/usr/local/lib/python3.7/dist-packages/ipykernel_launcher.py:28: RuntimeWarning: More than 20 figures have been opened. Figures created through the pyplot interface (`matplotlib.pyplot.figure`) are retained until explicitly closed and may consume too much memory. (To control this warning, see the rcParam `figure.max_open_warning`).\n",
            "/usr/local/lib/python3.7/dist-packages/ipykernel_launcher.py:28: RuntimeWarning: More than 20 figures have been opened. Figures created through the pyplot interface (`matplotlib.pyplot.figure`) are retained until explicitly closed and may consume too much memory. (To control this warning, see the rcParam `figure.max_open_warning`).\n",
            "/usr/local/lib/python3.7/dist-packages/ipykernel_launcher.py:28: RuntimeWarning: More than 20 figures have been opened. Figures created through the pyplot interface (`matplotlib.pyplot.figure`) are retained until explicitly closed and may consume too much memory. (To control this warning, see the rcParam `figure.max_open_warning`).\n"
          ]
        },
        {
          "output_type": "display_data",
          "data": {
            "image/png": "[encoded data removed]",
            "text/plain": [
              "<Figure size 432x288 with 1 Axes>"
            ]
          },
          "metadata": {
            "needs_background": "light"
          }
        },
        {
          "output_type": "display_data",
          "data": {
            "image/png": "[encoded data removed]",
            "text/plain": [
              "<Figure size 432x288 with 1 Axes>"
            ]
          },
          "metadata": {
            "needs_background": "light"
          }
        },
        {
          "output_type": "display_data",
          "data": {
            "image/png": "[encoded data removed]",
            "text/plain": [
              "<Figure size 432x288 with 1 Axes>"
            ]
          },
          "metadata": {
            "needs_background": "light"
          }
        },
        {
          "output_type": "display_data",
          "data": {
            "image/png": "[encoded data removed]",
            "text/plain": [
              "<Figure size 432x288 with 1 Axes>"
            ]
          },
          "metadata": {
            "needs_background": "light"
          }
        },
        {
          "output_type": "display_data",
          "data": {
            "image/png": "[encoded data removed]",
            "text/plain": [
              "<Figure size 432x288 with 1 Axes>"
            ]
          },
          "metadata": {
            "needs_background": "light"
          }
        },
        {
          "output_type": "display_data",
          "data": {
            "image/png": "[encoded data removed]",
            "text/plain": [
              "<Figure size 432x288 with 1 Axes>"
            ]
          },
          "metadata": {
            "needs_background": "light"
          }
        },
        {
          "output_type": "display_data",
          "data": {
            "image/png": "[encoded data removed]",
            "text/plain": [
              "<Figure size 432x288 with 1 Axes>"
            ]
          },
          "metadata": {
            "needs_background": "light"
          }
        },
        {
          "output_type": "display_data",
          "data": {
            "image/png": "[encoded data removed]",
            "text/plain": [
              "<Figure size 432x288 with 1 Axes>"
            ]
          },
          "metadata": {
            "needs_background": "light"
          }
        },
        {
          "output_type": "display_data",
          "data": {
            "image/png": "[encoded data removed]",
            "text/plain": [
              "<Figure size 432x288 with 1 Axes>"
            ]
          },
          "metadata": {
            "needs_background": "light"
          }
        },
        {
          "output_type": "display_data",
          "data": {
            "image/png": "[encoded data removed]",
            "text/plain": [
              "<Figure size 432x288 with 1 Axes>"
            ]
          },
          "metadata": {
            "needs_background": "light"
          }
        },
        {
          "output_type": "display_data",
          "data": {
            "image/png": "[encoded data removed]",
            "text/plain": [
              "<Figure size 432x288 with 1 Axes>"
            ]
          },
          "metadata": {
            "needs_background": "light"
          }
        },
        {
          "output_type": "display_data",
          "data": {
            "image/png": "[encoded data removed]",
            "text/plain": [
              "<Figure size 432x288 with 1 Axes>"
            ]
          },
          "metadata": {
            "needs_background": "light"
          }
        },
        {
          "output_type": "display_data",
          "data": {
            "image/png": "[encoded data removed]",
            "text/plain": [
              "<Figure size 432x288 with 1 Axes>"
            ]
          },
          "metadata": {
            "needs_background": "light"
          }
        },
        {
          "output_type": "display_data",
          "data": {
            "image/png": "[encoded data removed]",
            "text/plain": [
              "<Figure size 432x288 with 1 Axes>"
            ]
          },
          "metadata": {
            "needs_background": "light"
          }
        },
        {
          "output_type": "display_data",
          "data": {
            "image/png": "[encoded data removed]",
            "text/plain": [
              "<Figure size 432x288 with 1 Axes>"
            ]
          },
          "metadata": {
            "needs_background": "light"
          }
        },
        {
          "output_type": "display_data",
          "data": {
            "image/png": "[encoded data removed]",
            "text/plain": [
              "<Figure size 432x288 with 1 Axes>"
            ]
          },
          "metadata": {
            "needs_background": "light"
          }
        },
        {
          "output_type": "display_data",
          "data": {
            "image/png": "[encoded data removed]",
            "text/plain": [
              "<Figure size 432x288 with 1 Axes>"
            ]
          },
          "metadata": {
            "needs_background": "light"
          }
        },
        {
          "output_type": "display_data",
          "data": {
            "image/png": "[encoded data removed]",
            "text/plain": [
              "<Figure size 432x288 with 1 Axes>"
            ]
          },
          "metadata": {
            "needs_background": "light"
          }
        },
        {
          "output_type": "display_data",
          "data": {
            "image/png": "[encoded data removed]",
            "text/plain": [
              "<Figure size 432x288 with 1 Axes>"
            ]
          },
          "metadata": {
            "needs_background": "light"
          }
        },
        {
          "output_type": "display_data",
          "data": {
            "image/png": "[encoded data removed]",
            "text/plain": [
              "<Figure size 432x288 with 1 Axes>"
            ]
          },
          "metadata": {
            "needs_background": "light"
          }
        },
        {
          "output_type": "display_data",
          "data": {
            "image/png": "[encoded data removed]",
            "text/plain": [
              "<Figure size 432x288 with 1 Axes>"
            ]
          },
          "metadata": {
            "needs_background": "light"
          }
        },
        {
          "output_type": "display_data",
          "data": {
            "image/png": "[encoded data removed]",
            "text/plain": [
              "<Figure size 432x288 with 1 Axes>"
            ]
          },
          "metadata": {
            "needs_background": "light"
          }
        },
        {
          "output_type": "display_data",
          "data": {
            "image/png": "[encoded data removed]",
            "text/plain": [
              "<Figure size 432x288 with 1 Axes>"
            ]
          },
          "metadata": {
            "needs_background": "light"
          }
        },
        {
          "output_type": "display_data",
          "data": {
            "image/png": "[encoded data removed]",
            "text/plain": [
              "<Figure size 432x288 with 1 Axes>"
            ]
          },
          "metadata": {
            "needs_background": "light"
          }
        },
        {
          "output_type": "display_data",
          "data": {
            "image/png": "[encoded data removed]",
            "text/plain": [
              "<Figure size 432x288 with 1 Axes>"
            ]
          },
          "metadata": {
            "needs_background": "light"
          }
        },
        {
          "output_type": "display_data",
          "data": {
            "image/png": "[encoded data removed]",
            "text/plain": [
              "<Figure size 432x288 with 1 Axes>"
            ]
          },
          "metadata": {
            "needs_background": "light"
          }
        },
        {
          "output_type": "display_data",
          "data": {
            "image/png": "[encoded data removed]",
            "text/plain": [
              "<Figure size 432x288 with 1 Axes>"
            ]
          },
          "metadata": {
            "needs_background": "light"
          }
        },
        {
          "output_type": "display_data",
          "data": {
            "image/png": "[encoded data removed]",
            "text/plain": [
              "<Figure size 432x288 with 1 Axes>"
            ]
          },
          "metadata": {
            "needs_background": "light"
          }
        },
        {
          "output_type": "display_data",
          "data": {
            "image/png": "[encoded data removed]",
            "text/plain": [
              "<Figure size 432x288 with 1 Axes>"
            ]
          },
          "metadata": {
            "needs_background": "light"
          }
        },
        {
          "output_type": "display_data",
          "data": {
            "image/png": "[encoded data removed]",
            "text/plain": [
              "<Figure size 432x288 with 1 Axes>"
            ]
          },
          "metadata": {
            "needs_background": "light"
          }
        },
        {
          "output_type": "display_data",
          "data": {
            "image/png": "[encoded data removed]",
            "text/plain": [
              "<Figure size 432x288 with 1 Axes>"
            ]
          },
          "metadata": {
            "needs_background": "light"
          }
        },
        {
          "output_type": "display_data",
          "data": {
            "image/png": "[encoded data removed]",
            "text/plain": [
              "<Figure size 432x288 with 1 Axes>"
            ]
          },
          "metadata": {
            "needs_background": "light"
          }
        },
        {
          "output_type": "display_data",
          "data": {
            "image/png": "[encoded data removed]",
            "text/plain": [
              "<Figure size 432x288 with 1 Axes>"
            ]
          },
          "metadata": {
            "needs_background": "light"
          }
        },
        {
          "output_type": "display_data",
          "data": {
            "image/png": "[encoded data removed]",
            "text/plain": [
              "<Figure size 432x288 with 1 Axes>"
            ]
          },
          "metadata": {
            "needs_background": "light"
          }
        },
        {
          "output_type": "display_data",
          "data": {
            "image/png": "[encoded data removed]",
            "text/plain": [
              "<Figure size 432x288 with 1 Axes>"
            ]
          },
          "metadata": {
            "needs_background": "light"
          }
        },
        {
          "output_type": "display_data",
          "data": {
            "image/png": "[encoded data removed]",
            "text/plain": [
              "<Figure size 432x288 with 1 Axes>"
            ]
          },
          "metadata": {
            "needs_background": "light"
          }
        },
        {
          "output_type": "display_data",
          "data": {
            "image/png": "[encoded data removed]",
            "text/plain": [
              "<Figure size 432x288 with 1 Axes>"
            ]
          },
          "metadata": {
            "needs_background": "light"
          }
        },
        {
          "output_type": "display_data",
          "data": {
            "image/png": "[encoded data removed]",
            "text/plain": [
              "<Figure size 432x288 with 1 Axes>"
            ]
          },
          "metadata": {
            "needs_background": "light"
          }
        },
        {
          "output_type": "display_data",
          "data": {
            "image/png": "[encoded data removed]",
            "text/plain": [
              "<Figure size 432x288 with 1 Axes>"
            ]
          },
          "metadata": {
            "needs_background": "light"
          }
        },
        {
          "output_type": "display_data",
          "data": {
            "image/png": "[encoded data removed]",
            "text/plain": [
              "<Figure size 432x288 with 1 Axes>"
            ]
          },
          "metadata": {
            "needs_background": "light"
          }
        },
        {
          "output_type": "display_data",
          "data": {
            "image/png": "[encoded data removed]",
            "text/plain": [
              "<Figure size 432x288 with 1 Axes>"
            ]
          },
          "metadata": {
            "needs_background": "light"
          }
        },
        {
          "output_type": "display_data",
          "data": {
            "image/png": "[encoded data removed]",
            "text/plain": [
              "<Figure size 432x288 with 1 Axes>"
            ]
          },
          "metadata": {
            "needs_background": "light"
          }
        },
        {
          "output_type": "display_data",
          "data": {
            "image/png": "[encoded data removed]",
            "text/plain": [
              "<Figure size 432x288 with 1 Axes>"
            ]
          },
          "metadata": {
            "needs_background": "light"
          }
        },
        {
          "output_type": "display_data",
          "data": {
            "image/png": "[encoded data removed]",
            "text/plain": [
              "<Figure size 432x288 with 1 Axes>"
            ]
          },
          "metadata": {
            "needs_background": "light"
          }
        },
        {
          "output_type": "display_data",
          "data": {
            "image/png": "[encoded data removed]",
            "text/plain": [
              "<Figure size 432x288 with 1 Axes>"
            ]
          },
          "metadata": {
            "needs_background": "light"
          }
        },
        {
          "output_type": "display_data",
          "data": {
            "image/png": "[encoded data removed]",
            "text/plain": [
              "<Figure size 432x288 with 1 Axes>"
            ]
          },
          "metadata": {
            "needs_background": "light"
          }
        },
        {
          "output_type": "display_data",
          "data": {
            "image/png": "[encoded data removed]",
            "text/plain": [
              "<Figure size 432x288 with 1 Axes>"
            ]
          },
          "metadata": {
            "needs_background": "light"
          }
        },
        {
          "output_type": "display_data",
          "data": {
            "image/png": "[encoded data removed]",
            "text/plain": [
              "<Figure size 432x288 with 1 Axes>"
            ]
          },
          "metadata": {
            "needs_background": "light"
          }
        },
        {
          "output_type": "display_data",
          "data": {
            "image/png": "[encoded data removed]",
            "text/plain": [
              "<Figure size 432x288 with 1 Axes>"
            ]
          },
          "metadata": {
            "needs_background": "light"
          }
        },
        {
          "output_type": "display_data",
          "data": {
            "image/png": "[encoded data removed]",
            "text/plain": [
              "<Figure size 432x288 with 1 Axes>"
            ]
          },
          "metadata": {
            "needs_background": "light"
          }
        },
        {
          "output_type": "display_data",
          "data": {
            "image/png": "[encoded data removed]",
            "text/plain": [
              "<Figure size 432x288 with 1 Axes>"
            ]
          },
          "metadata": {
            "needs_background": "light"
          }
        },
        {
          "output_type": "display_data",
          "data": {
            "image/png": "[encoded data removed]",
            "text/plain": [
              "<Figure size 432x288 with 1 Axes>"
            ]
          },
          "metadata": {
            "needs_background": "light"
          }
        },
        {
          "output_type": "display_data",
          "data": {
            "image/png": "[encoded data removed]",
            "text/plain": [
              "<Figure size 432x288 with 1 Axes>"
            ]
          },
          "metadata": {
            "needs_background": "light"
          }
        },
        {
          "output_type": "display_data",
          "data": {
            "image/png": "[encoded data removed]",
            "text/plain": [
              "<Figure size 432x288 with 1 Axes>"
            ]
          },
          "metadata": {
            "needs_background": "light"
          }
        }
      ]
    },
    {
      "cell_type": "code",
      "metadata": {
        "colab": {
          "base_uri": "https://localhost:8080/",
          "height": 419
        },
        "id": "JSSrz-8jQI8v",
        "outputId": "96ab2f91-a833-4a6c-87ea-c1bdcbaf1187"
      },
      "source": [
        "#Learned to remove unneeded columns to reduce bugs\n",
        "series\n",
        "df_C =df.where(df['Country'] == 'Kuwait')\n",
        "df_C = df_C.sort_values('Price', ascending=False)\n",
        "df_C"
      ],
      "execution_count": 81,
      "outputs": [
        {
          "output_type": "execute_result",
          "data": {
            "text/html": [
              "<div>\n",
              "<style scoped>\n",
              "    .dataframe tbody tr th:only-of-type {\n",
              "        vertical-align: middle;\n",
              "    }\n",
              "\n",
              "    .dataframe tbody tr th {\n",
              "        vertical-align: top;\n",
              "    }\n",
              "\n",
              "    .dataframe thead th {\n",
              "        text-align: right;\n",
              "    }\n",
              "</style>\n",
              "<table border=\"1\" class=\"dataframe\">\n",
              "  <thead>\n",
              "    <tr style=\"text-align: right;\">\n",
              "      <th></th>\n",
              "      <th>Transaction_month</th>\n",
              "      <th>Product</th>\n",
              "      <th>Price</th>\n",
              "      <th>Payment_Type</th>\n",
              "      <th>Name</th>\n",
              "      <th>City</th>\n",
              "      <th>State</th>\n",
              "      <th>Country</th>\n",
              "      <th>Account_Created</th>\n",
              "      <th>Last_Login</th>\n",
              "      <th>Latitude</th>\n",
              "      <th>Longitude</th>\n",
              "    </tr>\n",
              "  </thead>\n",
              "  <tbody>\n",
              "    <tr>\n",
              "      <th>146</th>\n",
              "      <td>1.0</td>\n",
              "      <td>Product1</td>\n",
              "      <td>1200.0</td>\n",
              "      <td>Amex</td>\n",
              "      <td>Campbell</td>\n",
              "      <td>Mushrif</td>\n",
              "      <td>NaN</td>\n",
              "      <td>Kuwait</td>\n",
              "      <td>1/16/09 14:26</td>\n",
              "      <td>1/18/09 9:08</td>\n",
              "      <td>29.289167</td>\n",
              "      <td>48.05</td>\n",
              "    </tr>\n",
              "    <tr>\n",
              "      <th>0</th>\n",
              "      <td>NaN</td>\n",
              "      <td>NaN</td>\n",
              "      <td>NaN</td>\n",
              "      <td>NaN</td>\n",
              "      <td>NaN</td>\n",
              "      <td>NaN</td>\n",
              "      <td>NaN</td>\n",
              "      <td>NaN</td>\n",
              "      <td>NaN</td>\n",
              "      <td>NaN</td>\n",
              "      <td>NaN</td>\n",
              "      <td>NaN</td>\n",
              "    </tr>\n",
              "    <tr>\n",
              "      <th>1</th>\n",
              "      <td>NaN</td>\n",
              "      <td>NaN</td>\n",
              "      <td>NaN</td>\n",
              "      <td>NaN</td>\n",
              "      <td>NaN</td>\n",
              "      <td>NaN</td>\n",
              "      <td>NaN</td>\n",
              "      <td>NaN</td>\n",
              "      <td>NaN</td>\n",
              "      <td>NaN</td>\n",
              "      <td>NaN</td>\n",
              "      <td>NaN</td>\n",
              "    </tr>\n",
              "    <tr>\n",
              "      <th>2</th>\n",
              "      <td>NaN</td>\n",
              "      <td>NaN</td>\n",
              "      <td>NaN</td>\n",
              "      <td>NaN</td>\n",
              "      <td>NaN</td>\n",
              "      <td>NaN</td>\n",
              "      <td>NaN</td>\n",
              "      <td>NaN</td>\n",
              "      <td>NaN</td>\n",
              "      <td>NaN</td>\n",
              "      <td>NaN</td>\n",
              "      <td>NaN</td>\n",
              "    </tr>\n",
              "    <tr>\n",
              "      <th>3</th>\n",
              "      <td>NaN</td>\n",
              "      <td>NaN</td>\n",
              "      <td>NaN</td>\n",
              "      <td>NaN</td>\n",
              "      <td>NaN</td>\n",
              "      <td>NaN</td>\n",
              "      <td>NaN</td>\n",
              "      <td>NaN</td>\n",
              "      <td>NaN</td>\n",
              "      <td>NaN</td>\n",
              "      <td>NaN</td>\n",
              "      <td>NaN</td>\n",
              "    </tr>\n",
              "    <tr>\n",
              "      <th>...</th>\n",
              "      <td>...</td>\n",
              "      <td>...</td>\n",
              "      <td>...</td>\n",
              "      <td>...</td>\n",
              "      <td>...</td>\n",
              "      <td>...</td>\n",
              "      <td>...</td>\n",
              "      <td>...</td>\n",
              "      <td>...</td>\n",
              "      <td>...</td>\n",
              "      <td>...</td>\n",
              "      <td>...</td>\n",
              "    </tr>\n",
              "    <tr>\n",
              "      <th>993</th>\n",
              "      <td>NaN</td>\n",
              "      <td>NaN</td>\n",
              "      <td>NaN</td>\n",
              "      <td>NaN</td>\n",
              "      <td>NaN</td>\n",
              "      <td>NaN</td>\n",
              "      <td>NaN</td>\n",
              "      <td>NaN</td>\n",
              "      <td>NaN</td>\n",
              "      <td>NaN</td>\n",
              "      <td>NaN</td>\n",
              "      <td>NaN</td>\n",
              "    </tr>\n",
              "    <tr>\n",
              "      <th>994</th>\n",
              "      <td>NaN</td>\n",
              "      <td>NaN</td>\n",
              "      <td>NaN</td>\n",
              "      <td>NaN</td>\n",
              "      <td>NaN</td>\n",
              "      <td>NaN</td>\n",
              "      <td>NaN</td>\n",
              "      <td>NaN</td>\n",
              "      <td>NaN</td>\n",
              "      <td>NaN</td>\n",
              "      <td>NaN</td>\n",
              "      <td>NaN</td>\n",
              "    </tr>\n",
              "    <tr>\n",
              "      <th>995</th>\n",
              "      <td>NaN</td>\n",
              "      <td>NaN</td>\n",
              "      <td>NaN</td>\n",
              "      <td>NaN</td>\n",
              "      <td>NaN</td>\n",
              "      <td>NaN</td>\n",
              "      <td>NaN</td>\n",
              "      <td>NaN</td>\n",
              "      <td>NaN</td>\n",
              "      <td>NaN</td>\n",
              "      <td>NaN</td>\n",
              "      <td>NaN</td>\n",
              "    </tr>\n",
              "    <tr>\n",
              "      <th>996</th>\n",
              "      <td>NaN</td>\n",
              "      <td>NaN</td>\n",
              "      <td>NaN</td>\n",
              "      <td>NaN</td>\n",
              "      <td>NaN</td>\n",
              "      <td>NaN</td>\n",
              "      <td>NaN</td>\n",
              "      <td>NaN</td>\n",
              "      <td>NaN</td>\n",
              "      <td>NaN</td>\n",
              "      <td>NaN</td>\n",
              "      <td>NaN</td>\n",
              "    </tr>\n",
              "    <tr>\n",
              "      <th>997</th>\n",
              "      <td>NaN</td>\n",
              "      <td>NaN</td>\n",
              "      <td>NaN</td>\n",
              "      <td>NaN</td>\n",
              "      <td>NaN</td>\n",
              "      <td>NaN</td>\n",
              "      <td>NaN</td>\n",
              "      <td>NaN</td>\n",
              "      <td>NaN</td>\n",
              "      <td>NaN</td>\n",
              "      <td>NaN</td>\n",
              "      <td>NaN</td>\n",
              "    </tr>\n",
              "  </tbody>\n",
              "</table>\n",
              "<p>998 rows × 12 columns</p>\n",
              "</div>"
            ],
            "text/plain": [
              "     Transaction_month   Product   Price  ...    Last_Login   Latitude Longitude\n",
              "146                1.0  Product1  1200.0  ...  1/18/09 9:08  29.289167     48.05\n",
              "0                  NaN       NaN     NaN  ...           NaN        NaN       NaN\n",
              "1                  NaN       NaN     NaN  ...           NaN        NaN       NaN\n",
              "2                  NaN       NaN     NaN  ...           NaN        NaN       NaN\n",
              "3                  NaN       NaN     NaN  ...           NaN        NaN       NaN\n",
              "..                 ...       ...     ...  ...           ...        ...       ...\n",
              "993                NaN       NaN     NaN  ...           NaN        NaN       NaN\n",
              "994                NaN       NaN     NaN  ...           NaN        NaN       NaN\n",
              "995                NaN       NaN     NaN  ...           NaN        NaN       NaN\n",
              "996                NaN       NaN     NaN  ...           NaN        NaN       NaN\n",
              "997                NaN       NaN     NaN  ...           NaN        NaN       NaN\n",
              "\n",
              "[998 rows x 12 columns]"
            ]
          },
          "metadata": {},
          "execution_count": 81
        }
      ]
    },
    {
      "cell_type": "code",
      "metadata": {
        "colab": {
          "base_uri": "https://localhost:8080/",
          "height": 332
        },
        "id": "pu6NwVYVLUud",
        "outputId": "15e62a26-7ba0-4bed-edad-21e4de004540"
      },
      "source": [
        "# Create data\n",
        "df_US= df[df['Country']=='United States']\n",
        "x = df_US['Transaction_month']\n",
        "y = df_US['Price']\n",
        "colors = (0,0,0)\n",
        "area = np.pi*3\n",
        "\n",
        "# Plot\n",
        "plt.scatter(x, y, s=area, c=colors, alpha=0.5)\n",
        "plt.title('pp')\n",
        "plt.xlabel('x')\n",
        "plt.ylabel('y')\n",
        "plt.show()"
      ],
      "execution_count": 39,
      "outputs": [
        {
          "output_type": "stream",
          "name": "stderr",
          "text": [
            "*c* argument looks like a single numeric RGB or RGBA sequence, which should be avoided as value-mapping will have precedence in case its length matches with *x* & *y*.  Please use the *color* keyword-argument or provide a 2-D array with a single row if you intend to specify the same RGB or RGBA value for all points.\n"
          ]
        },
        {
          "output_type": "display_data",
          "data": {
            "image/png": "[encoded data removed]",
            "text/plain": [
              "<Figure size 432x288 with 1 Axes>"
            ]
          },
          "metadata": {
            "needs_background": "light"
          }
        }
      ]
    }
  ]
}